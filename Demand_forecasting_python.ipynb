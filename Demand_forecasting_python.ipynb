{
 "cells": [
  {
   "cell_type": "markdown",
   "metadata": {},
   "source": [
    "# TIME SERIES FORECASTING for Tableau Superstore dataset using ARIMA, LSTM and FACEBOOK PROPHET at Sub-Category level"
   ]
  },
  {
   "cell_type": "code",
   "execution_count": 116,
   "metadata": {},
   "outputs": [],
   "source": [
    "# importing required libraries \n",
    "import numpy as np\n",
    "import pandas as pd\n",
    "import matplotlib.pyplot as plt\n",
    "import seaborn as sns\n",
    "import itertools\n",
    "import statsmodels.api as sm\n",
    "from pylab import rcParams\n",
    "import os, time, sys, math\n",
    "import missingno as msno \n",
    "import warnings\n",
    "from statsmodels.tsa.statespace.sarimax import SARIMAX\n",
    "import plotly.offline as pyoff\n",
    "import plotly.graph_objs as go\n",
    "import chart_studio.plotly as py\n",
    "from statsmodels.tsa.seasonal import seasonal_decompose\n",
    "from statsmodels.tools.eval_measures import rmse\n",
    "from keras.preprocessing.sequence import TimeseriesGenerator\n",
    "from keras.layers import Dense, Dropout\n",
    "from keras.models import Sequential\n",
    "from keras.optimizers import Adam \n",
    "from keras.callbacks import EarlyStopping\n",
    "from keras.utils import np_utils\n",
    "from keras.layers import LSTM\n",
    "from sklearn.model_selection import KFold, cross_val_score, train_test_split\n",
    "from fbprophet import Prophet"
   ]
  },
  {
   "cell_type": "markdown",
   "metadata": {},
   "source": [
    "# Read Datset\n",
    "Dataset link: https://community.tableau.com/s/question/0D54T00000CWeX8SAL/sample-superstore-sales-excelxls"
   ]
  },
  {
   "cell_type": "code",
   "execution_count": 117,
   "metadata": {},
   "outputs": [
    {
     "data": {
      "text/html": [
       "<div>\n",
       "<style scoped>\n",
       "    .dataframe tbody tr th:only-of-type {\n",
       "        vertical-align: middle;\n",
       "    }\n",
       "\n",
       "    .dataframe tbody tr th {\n",
       "        vertical-align: top;\n",
       "    }\n",
       "\n",
       "    .dataframe thead th {\n",
       "        text-align: right;\n",
       "    }\n",
       "</style>\n",
       "<table border=\"1\" class=\"dataframe\">\n",
       "  <thead>\n",
       "    <tr style=\"text-align: right;\">\n",
       "      <th></th>\n",
       "      <th>Row ID</th>\n",
       "      <th>Order ID</th>\n",
       "      <th>Order Date</th>\n",
       "      <th>Ship Date</th>\n",
       "      <th>Ship Mode</th>\n",
       "      <th>Customer ID</th>\n",
       "      <th>Customer Name</th>\n",
       "      <th>Segment</th>\n",
       "      <th>Country</th>\n",
       "      <th>City</th>\n",
       "      <th>...</th>\n",
       "      <th>Postal Code</th>\n",
       "      <th>Region</th>\n",
       "      <th>Product ID</th>\n",
       "      <th>Category</th>\n",
       "      <th>Sub-Category</th>\n",
       "      <th>Product Name</th>\n",
       "      <th>Sales</th>\n",
       "      <th>Quantity</th>\n",
       "      <th>Discount</th>\n",
       "      <th>Profit</th>\n",
       "    </tr>\n",
       "  </thead>\n",
       "  <tbody>\n",
       "    <tr>\n",
       "      <th>0</th>\n",
       "      <td>1</td>\n",
       "      <td>CA-2016-152156</td>\n",
       "      <td>2016-11-08</td>\n",
       "      <td>2016-11-11</td>\n",
       "      <td>Second Class</td>\n",
       "      <td>CG-12520</td>\n",
       "      <td>Claire Gute</td>\n",
       "      <td>Consumer</td>\n",
       "      <td>United States</td>\n",
       "      <td>Henderson</td>\n",
       "      <td>...</td>\n",
       "      <td>42420</td>\n",
       "      <td>South</td>\n",
       "      <td>FUR-BO-10001798</td>\n",
       "      <td>Furniture</td>\n",
       "      <td>Bookcases</td>\n",
       "      <td>Bush Somerset Collection Bookcase</td>\n",
       "      <td>261.96</td>\n",
       "      <td>2</td>\n",
       "      <td>0.0</td>\n",
       "      <td>41.9136</td>\n",
       "    </tr>\n",
       "    <tr>\n",
       "      <th>1</th>\n",
       "      <td>2</td>\n",
       "      <td>CA-2016-152156</td>\n",
       "      <td>2016-11-08</td>\n",
       "      <td>2016-11-11</td>\n",
       "      <td>Second Class</td>\n",
       "      <td>CG-12520</td>\n",
       "      <td>Claire Gute</td>\n",
       "      <td>Consumer</td>\n",
       "      <td>United States</td>\n",
       "      <td>Henderson</td>\n",
       "      <td>...</td>\n",
       "      <td>42420</td>\n",
       "      <td>South</td>\n",
       "      <td>FUR-CH-10000454</td>\n",
       "      <td>Furniture</td>\n",
       "      <td>Chairs</td>\n",
       "      <td>Hon Deluxe Fabric Upholstered Stacking Chairs,...</td>\n",
       "      <td>731.94</td>\n",
       "      <td>3</td>\n",
       "      <td>0.0</td>\n",
       "      <td>219.5820</td>\n",
       "    </tr>\n",
       "  </tbody>\n",
       "</table>\n",
       "<p>2 rows × 21 columns</p>\n",
       "</div>"
      ],
      "text/plain": [
       "   Row ID        Order ID Order Date  Ship Date     Ship Mode Customer ID  \\\n",
       "0       1  CA-2016-152156 2016-11-08 2016-11-11  Second Class    CG-12520   \n",
       "1       2  CA-2016-152156 2016-11-08 2016-11-11  Second Class    CG-12520   \n",
       "\n",
       "  Customer Name   Segment        Country       City  ... Postal Code  Region  \\\n",
       "0   Claire Gute  Consumer  United States  Henderson  ...       42420   South   \n",
       "1   Claire Gute  Consumer  United States  Henderson  ...       42420   South   \n",
       "\n",
       "        Product ID   Category Sub-Category  \\\n",
       "0  FUR-BO-10001798  Furniture    Bookcases   \n",
       "1  FUR-CH-10000454  Furniture       Chairs   \n",
       "\n",
       "                                        Product Name   Sales  Quantity  \\\n",
       "0                  Bush Somerset Collection Bookcase  261.96         2   \n",
       "1  Hon Deluxe Fabric Upholstered Stacking Chairs,...  731.94         3   \n",
       "\n",
       "   Discount    Profit  \n",
       "0       0.0   41.9136  \n",
       "1       0.0  219.5820  \n",
       "\n",
       "[2 rows x 21 columns]"
      ]
     },
     "execution_count": 117,
     "metadata": {},
     "output_type": "execute_result"
    }
   ],
   "source": [
    "# Read Dataset\n",
    "# Dataset link: \n",
    "file_path = '/home/sync_ai/Documents/working_folder/Sample_Superstore.xls'\n",
    "sheet1 = 'Orders'\n",
    "df = pd.read_excel(file_path, sheet_name = sheet1)\n",
    "df.head(2)"
   ]
  },
  {
   "cell_type": "code",
   "execution_count": 118,
   "metadata": {},
   "outputs": [
    {
     "name": "stdout",
     "output_type": "stream",
     "text": [
      "Number of rows:  9994\n",
      "Number of columns:  21\n",
      "\n",
      "Name of the columns: ['Row ID', 'Order ID', 'Order Date', 'Ship Date', 'Ship Mode', 'Customer ID', 'Customer Name', 'Segment', 'Country', 'City', 'State', 'Postal Code', 'Region', 'Product ID', 'Category', 'Sub-Category', 'Product Name', 'Sales', 'Quantity', 'Discount', 'Profit']\n",
      "\n",
      "Unique values\n",
      " Row ID           9994\n",
      "Order ID         5009\n",
      "Order Date       1237\n",
      "Ship Date        1334\n",
      "Ship Mode           4\n",
      "Customer ID       793\n",
      "Customer Name     793\n",
      "Segment             3\n",
      "Country             1\n",
      "City              531\n",
      "State              49\n",
      "Postal Code       631\n",
      "Region              4\n",
      "Product ID       1862\n",
      "Category            3\n",
      "Sub-Category       17\n",
      "Product Name     1850\n",
      "Sales            6107\n",
      "Quantity           14\n",
      "Discount           12\n",
      "Profit           7544\n",
      "dtype: int64\n"
     ]
    }
   ],
   "source": [
    "print(\"Number of rows: \", df.shape[0])\n",
    "print(\"Number of columns: \", df.shape[1])\n",
    "print(\"\\nName of the columns:\", df.columns.tolist())\n",
    "print(\"\\nUnique values\\n\", df.nunique())"
   ]
  },
  {
   "cell_type": "markdown",
   "metadata": {},
   "source": [
    "# Data Preprocessing"
   ]
  },
  {
   "cell_type": "code",
   "execution_count": 119,
   "metadata": {},
   "outputs": [
    {
     "name": "stdout",
     "output_type": "stream",
     "text": [
      "<class 'pandas.core.frame.DataFrame'>\n",
      "RangeIndex: 9994 entries, 0 to 9993\n",
      "Data columns (total 21 columns):\n",
      " #   Column         Non-Null Count  Dtype         \n",
      "---  ------         --------------  -----         \n",
      " 0   Row_ID         9994 non-null   int64         \n",
      " 1   Order_ID       9994 non-null   object        \n",
      " 2   Order_Date     9994 non-null   datetime64[ns]\n",
      " 3   Ship_Date      9994 non-null   datetime64[ns]\n",
      " 4   Ship_Mode      9994 non-null   object        \n",
      " 5   Customer_ID    9994 non-null   object        \n",
      " 6   Customer_Name  9994 non-null   object        \n",
      " 7   Segment        9994 non-null   object        \n",
      " 8   Country        9994 non-null   object        \n",
      " 9   City           9994 non-null   object        \n",
      " 10  State          9994 non-null   object        \n",
      " 11  Postal_Code    9994 non-null   int64         \n",
      " 12  Region         9994 non-null   object        \n",
      " 13  Product_ID     9994 non-null   object        \n",
      " 14  Category       9994 non-null   object        \n",
      " 15  Sub_Category   9994 non-null   object        \n",
      " 16  Product_Name   9994 non-null   object        \n",
      " 17  Sales          9994 non-null   float64       \n",
      " 18  Quantity       9994 non-null   int64         \n",
      " 19  Discount       9994 non-null   float64       \n",
      " 20  Profit         9994 non-null   float64       \n",
      "dtypes: datetime64[ns](2), float64(3), int64(3), object(13)\n",
      "memory usage: 1.6+ MB\n"
     ]
    }
   ],
   "source": [
    "df.columns = df.columns.str.replace('-', '_')\n",
    "df.columns = df.columns.str.replace(' ', '_')\n",
    "df.info()"
   ]
  },
  {
   "cell_type": "markdown",
   "metadata": {},
   "source": [
    "We shall analyse the time series of Blinders sales"
   ]
  },
  {
   "cell_type": "code",
   "execution_count": 120,
   "metadata": {},
   "outputs": [
    {
     "name": "stdout",
     "output_type": "stream",
     "text": [
      "   Sub_Category  count\n",
      "0       Binders   1523\n",
      "1         Paper   1370\n",
      "2   Furnishings    957\n",
      "3        Phones    889\n",
      "4       Storage    846\n",
      "5           Art    796\n",
      "6   Accessories    775\n",
      "7        Chairs    617\n",
      "8    Appliances    466\n",
      "9        Labels    364\n",
      "10       Tables    319\n",
      "11    Envelopes    254\n",
      "12    Bookcases    228\n",
      "13    Fasteners    217\n",
      "14     Supplies    190\n",
      "15     Machines    115\n",
      "16      Copiers     68\n",
      "\n",
      "Unique Sub-Category Counts:  17\n",
      "Total Count:  9994\n"
     ]
    },
    {
     "data": {
      "text/plain": [
       "(None, None, None)"
      ]
     },
     "execution_count": 120,
     "metadata": {},
     "output_type": "execute_result"
    }
   ],
   "source": [
    "# Top 10 occuring products ID and \n",
    "rep_rows = pd.DataFrame(df['Sub_Category'].value_counts()).reset_index()\n",
    "rep_rows.columns = ['Sub_Category','count']\n",
    "print(rep_rows), print(\"\\nUnique Sub-Category Counts: \",df['Sub_Category'].nunique()),print(\"Total Count: \",rep_rows['count'].sum())"
   ]
  },
  {
   "cell_type": "code",
   "execution_count": 121,
   "metadata": {},
   "outputs": [
    {
     "data": {
      "text/plain": [
       "<PandasArray>\n",
       "['Binders']\n",
       "Length: 1, dtype: object"
      ]
     },
     "execution_count": 121,
     "metadata": {},
     "output_type": "execute_result"
    }
   ],
   "source": [
    "# converting top 10 product's ID into array\n",
    "sc_array = rep_rows.head(1)['Sub_Category'].array\n",
    "sc_array"
   ]
  },
  {
   "cell_type": "code",
   "execution_count": 122,
   "metadata": {},
   "outputs": [
    {
     "name": "stdout",
     "output_type": "stream",
     "text": [
      "Rows:  1523\n",
      "Columns:  21\n",
      "\n",
      "MIN DATE:  2014-01-04 00:00:00\n",
      "MAX DATE:  2017-12-30 00:00:00\n"
     ]
    },
    {
     "data": {
      "text/plain": [
       "(None, None, None, None)"
      ]
     },
     "execution_count": 122,
     "metadata": {},
     "output_type": "execute_result"
    }
   ],
   "source": [
    "top10 = df.loc[df['Sub_Category'] == 'Binders']\n",
    "print(\"Rows: \",top10.shape[0]), print(\"Columns: \",top10.shape[1]),\\\n",
    "print(\"\\nMIN DATE: \",top10['Order_Date'].min()), print(\"MAX DATE: \",top10['Order_Date'].max()) "
   ]
  },
  {
   "cell_type": "code",
   "execution_count": 123,
   "metadata": {},
   "outputs": [
    {
     "name": "stderr",
     "output_type": "stream",
     "text": [
      "/home/sync_ai/Documents/python3/lib/python3.6/site-packages/pandas/core/frame.py:3997: SettingWithCopyWarning:\n",
      "\n",
      "\n",
      "A value is trying to be set on a copy of a slice from a DataFrame\n",
      "\n",
      "See the caveats in the documentation: https://pandas.pydata.org/pandas-docs/stable/user_guide/indexing.html#returning-a-view-versus-a-copy\n",
      "\n"
     ]
    }
   ],
   "source": [
    "cols = ['Row_ID', 'Order_ID', 'Ship_Date', 'Ship_Mode', 'Customer_ID', 'Customer_Name', 'Segment', 'Country', 'City', 'State', 'Postal_Code', 'Region', 'Product_ID', 'Category','Sub_Category' ,'Product_Name', 'Quantity', 'Discount', 'Profit']\n",
    "top10.drop(cols, axis=1, inplace=True)"
   ]
  },
  {
   "cell_type": "code",
   "execution_count": 124,
   "metadata": {},
   "outputs": [
    {
     "data": {
      "text/html": [
       "<div>\n",
       "<style scoped>\n",
       "    .dataframe tbody tr th:only-of-type {\n",
       "        vertical-align: middle;\n",
       "    }\n",
       "\n",
       "    .dataframe tbody tr th {\n",
       "        vertical-align: top;\n",
       "    }\n",
       "\n",
       "    .dataframe thead th {\n",
       "        text-align: right;\n",
       "    }\n",
       "</style>\n",
       "<table border=\"1\" class=\"dataframe\">\n",
       "  <thead>\n",
       "    <tr style=\"text-align: right;\">\n",
       "      <th></th>\n",
       "      <th>Order_Date</th>\n",
       "      <th>Sales</th>\n",
       "    </tr>\n",
       "  </thead>\n",
       "  <tbody>\n",
       "    <tr>\n",
       "      <th>0</th>\n",
       "      <td>2014-06-09</td>\n",
       "      <td>18.504</td>\n",
       "    </tr>\n",
       "    <tr>\n",
       "      <th>1</th>\n",
       "      <td>2016-12-05</td>\n",
       "      <td>407.976</td>\n",
       "    </tr>\n",
       "    <tr>\n",
       "      <th>2</th>\n",
       "      <td>2015-11-22</td>\n",
       "      <td>2.544</td>\n",
       "    </tr>\n",
       "    <tr>\n",
       "      <th>3</th>\n",
       "      <td>2014-08-27</td>\n",
       "      <td>22.720</td>\n",
       "    </tr>\n",
       "    <tr>\n",
       "      <th>4</th>\n",
       "      <td>2016-01-16</td>\n",
       "      <td>11.648</td>\n",
       "    </tr>\n",
       "    <tr>\n",
       "      <th>...</th>\n",
       "      <td>...</td>\n",
       "      <td>...</td>\n",
       "    </tr>\n",
       "    <tr>\n",
       "      <th>1518</th>\n",
       "      <td>2017-12-11</td>\n",
       "      <td>40.200</td>\n",
       "    </tr>\n",
       "    <tr>\n",
       "      <th>1519</th>\n",
       "      <td>2017-12-11</td>\n",
       "      <td>735.980</td>\n",
       "    </tr>\n",
       "    <tr>\n",
       "      <th>1520</th>\n",
       "      <td>2015-06-28</td>\n",
       "      <td>119.560</td>\n",
       "    </tr>\n",
       "    <tr>\n",
       "      <th>1521</th>\n",
       "      <td>2016-12-06</td>\n",
       "      <td>13.376</td>\n",
       "    </tr>\n",
       "    <tr>\n",
       "      <th>1522</th>\n",
       "      <td>2016-12-06</td>\n",
       "      <td>437.472</td>\n",
       "    </tr>\n",
       "  </tbody>\n",
       "</table>\n",
       "<p>1523 rows × 2 columns</p>\n",
       "</div>"
      ],
      "text/plain": [
       "     Order_Date    Sales\n",
       "0    2014-06-09   18.504\n",
       "1    2016-12-05  407.976\n",
       "2    2015-11-22    2.544\n",
       "3    2014-08-27   22.720\n",
       "4    2016-01-16   11.648\n",
       "...         ...      ...\n",
       "1518 2017-12-11   40.200\n",
       "1519 2017-12-11  735.980\n",
       "1520 2015-06-28  119.560\n",
       "1521 2016-12-06   13.376\n",
       "1522 2016-12-06  437.472\n",
       "\n",
       "[1523 rows x 2 columns]"
      ]
     },
     "execution_count": 124,
     "metadata": {},
     "output_type": "execute_result"
    }
   ],
   "source": [
    "top10.reset_index(drop=True, inplace=True)\n",
    "top10"
   ]
  },
  {
   "cell_type": "code",
   "execution_count": 125,
   "metadata": {},
   "outputs": [
    {
     "name": "stdout",
     "output_type": "stream",
     "text": [
      "  Order_Date      Sales\n",
      "0 2014-01-01    814.508\n",
      "1 2014-02-01    339.262\n",
      "2 2014-03-01   1525.675\n",
      "3 2014-04-01    985.752\n",
      "4 2014-05-01   4372.304\n",
      "5 2014-06-01   4275.793\n",
      "6 2014-07-01   2934.492\n",
      "7 2014-08-01   4251.387\n",
      "8 2014-09-01  12743.616\n",
      "9 2014-10-01    480.156\n",
      "\n",
      "Shape:\n",
      " (48, 2)\n"
     ]
    },
    {
     "data": {
      "text/plain": [
       "(None, None)"
      ]
     },
     "execution_count": 125,
     "metadata": {},
     "output_type": "execute_result"
    }
   ],
   "source": [
    "top10 = top10.groupby([pd.Grouper(key='Order_Date', freq='MS')])['Sales'].sum().reset_index().sort_values('Order_Date')\n",
    "# freq='W-MON'\n",
    "print(top10.head(10)), print('\\nShape:\\n',top10.shape)\n"
   ]
  },
  {
   "cell_type": "code",
   "execution_count": 126,
   "metadata": {},
   "outputs": [
    {
     "data": {
      "text/html": [
       "<div>\n",
       "<style scoped>\n",
       "    .dataframe tbody tr th:only-of-type {\n",
       "        vertical-align: middle;\n",
       "    }\n",
       "\n",
       "    .dataframe tbody tr th {\n",
       "        vertical-align: top;\n",
       "    }\n",
       "\n",
       "    .dataframe thead th {\n",
       "        text-align: right;\n",
       "    }\n",
       "</style>\n",
       "<table border=\"1\" class=\"dataframe\">\n",
       "  <thead>\n",
       "    <tr style=\"text-align: right;\">\n",
       "      <th></th>\n",
       "      <th>Sales</th>\n",
       "    </tr>\n",
       "    <tr>\n",
       "      <th>Order_Date</th>\n",
       "      <th></th>\n",
       "    </tr>\n",
       "  </thead>\n",
       "  <tbody>\n",
       "    <tr>\n",
       "      <th>2014-01-01</th>\n",
       "      <td>814.508</td>\n",
       "    </tr>\n",
       "    <tr>\n",
       "      <th>2014-02-01</th>\n",
       "      <td>339.262</td>\n",
       "    </tr>\n",
       "    <tr>\n",
       "      <th>2014-03-01</th>\n",
       "      <td>1525.675</td>\n",
       "    </tr>\n",
       "    <tr>\n",
       "      <th>2014-04-01</th>\n",
       "      <td>985.752</td>\n",
       "    </tr>\n",
       "    <tr>\n",
       "      <th>2014-05-01</th>\n",
       "      <td>4372.304</td>\n",
       "    </tr>\n",
       "  </tbody>\n",
       "</table>\n",
       "</div>"
      ],
      "text/plain": [
       "               Sales\n",
       "Order_Date          \n",
       "2014-01-01   814.508\n",
       "2014-02-01   339.262\n",
       "2014-03-01  1525.675\n",
       "2014-04-01   985.752\n",
       "2014-05-01  4372.304"
      ]
     },
     "execution_count": 126,
     "metadata": {},
     "output_type": "execute_result"
    }
   ],
   "source": [
    "top10 = top10.set_index(\"Order_Date\")\n",
    "top10.head()"
   ]
  },
  {
   "cell_type": "markdown",
   "metadata": {},
   "source": [
    "# Blinders - Time series visualization"
   ]
  },
  {
   "cell_type": "code",
   "execution_count": 127,
   "metadata": {},
   "outputs": [
    {
     "data": {
      "image/png": "[encoded data removed]",
      "text/plain": [
       "<Figure size 1152x360 with 1 Axes>"
      ]
     },
     "metadata": {
      "needs_background": "light"
     },
     "output_type": "display_data"
    }
   ],
   "source": [
    "plt_grph = top10['Sales'].plot(figsize = (16,5), title = \"Monthly Sales - Blinder\")\n",
    "plt_grph.set(xlabel='Order_Date', ylabel='Sales - Blinders');"
   ]
  },
  {
   "cell_type": "code",
   "execution_count": 128,
   "metadata": {},
   "outputs": [
    {
     "data": {
      "image/png": "[encoded data removed]",
      "text/plain": [
       "<Figure size 432x288 with 4 Axes>"
      ]
     },
     "metadata": {
      "needs_background": "light"
     },
     "output_type": "display_data"
    }
   ],
   "source": [
    "a = seasonal_decompose(top10[\"Sales\"], model = \"additive\")\n",
    "a.plot();"
   ]
  },
  {
   "cell_type": "code",
   "execution_count": 129,
   "metadata": {},
   "outputs": [
    {
     "data": {
      "image/png": "[encoded data removed]",
      "text/plain": [
       "<Figure size 1152x504 with 1 Axes>"
      ]
     },
     "metadata": {
      "needs_background": "light"
     },
     "output_type": "display_data"
    }
   ],
   "source": [
    "plt.figure(figsize = (16,7))\n",
    "a.seasonal.plot();"
   ]
  },
  {
   "cell_type": "markdown",
   "metadata": {},
   "source": [
    "# ARIMA forecast\n",
    "Let's run auto_arima() function to get best p,q,d,P,D,Q values"
   ]
  },
  {
   "cell_type": "code",
   "execution_count": 130,
   "metadata": {},
   "outputs": [
    {
     "name": "stderr",
     "output_type": "stream",
     "text": [
      "/home/sync_ai/Documents/python3/lib/python3.6/site-packages/statsmodels/tsa/statespace/sarimax.py:1006: UserWarning:\n",
      "\n",
      "Non-invertible starting seasonal moving average Using zeros as starting parameters.\n",
      "\n",
      "/home/sync_ai/Documents/python3/lib/python3.6/site-packages/statsmodels/tsa/statespace/sarimax.py:1006: UserWarning:\n",
      "\n",
      "Non-invertible starting seasonal moving average Using zeros as starting parameters.\n",
      "\n",
      "/home/sync_ai/Documents/python3/lib/python3.6/site-packages/statsmodels/tsa/statespace/sarimax.py:1006: UserWarning:\n",
      "\n",
      "Non-invertible starting seasonal moving average Using zeros as starting parameters.\n",
      "\n"
     ]
    },
    {
     "data": {
      "text/html": [
       "<table class=\"simpletable\">\n",
       "<caption>SARIMAX Results</caption>\n",
       "<tr>\n",
       "  <th>Dep. Variable:</th>           <td>y</td>        <th>  No. Observations:  </th>    <td>48</td>   \n",
       "</tr>\n",
       "<tr>\n",
       "  <th>Model:</th>           <td>SARIMAX(0, 0, 1)</td> <th>  Log Likelihood     </th> <td>-461.770</td>\n",
       "</tr>\n",
       "<tr>\n",
       "  <th>Date:</th>            <td>Sun, 19 Jul 2020</td> <th>  AIC                </th>  <td>929.540</td>\n",
       "</tr>\n",
       "<tr>\n",
       "  <th>Time:</th>                <td>11:48:05</td>     <th>  BIC                </th>  <td>935.153</td>\n",
       "</tr>\n",
       "<tr>\n",
       "  <th>Sample:</th>                  <td>0</td>        <th>  HQIC               </th>  <td>931.661</td>\n",
       "</tr>\n",
       "<tr>\n",
       "  <th></th>                       <td> - 48</td>      <th>                     </th>     <td> </td>   \n",
       "</tr>\n",
       "<tr>\n",
       "  <th>Covariance Type:</th>        <td>opg</td>       <th>                     </th>     <td> </td>   \n",
       "</tr>\n",
       "</table>\n",
       "<table class=\"simpletable\">\n",
       "<tr>\n",
       "      <td></td>         <th>coef</th>     <th>std err</th>      <th>z</th>      <th>P>|z|</th>  <th>[0.025</th>    <th>0.975]</th>  \n",
       "</tr>\n",
       "<tr>\n",
       "  <th>intercept</th> <td> 4228.0738</td> <td>  997.156</td> <td>    4.240</td> <td> 0.000</td> <td> 2273.683</td> <td> 6182.464</td>\n",
       "</tr>\n",
       "<tr>\n",
       "  <th>ma.L1</th>     <td>    0.3692</td> <td>    0.142</td> <td>    2.597</td> <td> 0.009</td> <td>    0.091</td> <td>    0.648</td>\n",
       "</tr>\n",
       "<tr>\n",
       "  <th>sigma2</th>    <td> 1.325e+07</td> <td> 2.53e+06</td> <td>    5.237</td> <td> 0.000</td> <td> 8.29e+06</td> <td> 1.82e+07</td>\n",
       "</tr>\n",
       "</table>\n",
       "<table class=\"simpletable\">\n",
       "<tr>\n",
       "  <th>Ljung-Box (Q):</th>          <td>31.72</td> <th>  Jarque-Bera (JB):  </th> <td>26.74</td>\n",
       "</tr>\n",
       "<tr>\n",
       "  <th>Prob(Q):</th>                <td>0.82</td>  <th>  Prob(JB):          </th> <td>0.00</td> \n",
       "</tr>\n",
       "<tr>\n",
       "  <th>Heteroskedasticity (H):</th> <td>1.72</td>  <th>  Skew:              </th> <td>1.42</td> \n",
       "</tr>\n",
       "<tr>\n",
       "  <th>Prob(H) (two-sided):</th>    <td>0.29</td>  <th>  Kurtosis:          </th> <td>5.31</td> \n",
       "</tr>\n",
       "</table><br/><br/>Warnings:<br/>[1] Covariance matrix calculated using the outer product of gradients (complex-step)."
      ],
      "text/plain": [
       "<class 'statsmodels.iolib.summary.Summary'>\n",
       "\"\"\"\n",
       "                               SARIMAX Results                                \n",
       "==============================================================================\n",
       "Dep. Variable:                      y   No. Observations:                   48\n",
       "Model:               SARIMAX(0, 0, 1)   Log Likelihood                -461.770\n",
       "Date:                Sun, 19 Jul 2020   AIC                            929.540\n",
       "Time:                        11:48:05   BIC                            935.153\n",
       "Sample:                             0   HQIC                           931.661\n",
       "                                 - 48                                         \n",
       "Covariance Type:                  opg                                         \n",
       "==============================================================================\n",
       "                 coef    std err          z      P>|z|      [0.025      0.975]\n",
       "------------------------------------------------------------------------------\n",
       "intercept   4228.0738    997.156      4.240      0.000    2273.683    6182.464\n",
       "ma.L1          0.3692      0.142      2.597      0.009       0.091       0.648\n",
       "sigma2      1.325e+07   2.53e+06      5.237      0.000    8.29e+06    1.82e+07\n",
       "===================================================================================\n",
       "Ljung-Box (Q):                       31.72   Jarque-Bera (JB):                26.74\n",
       "Prob(Q):                              0.82   Prob(JB):                         0.00\n",
       "Heteroskedasticity (H):               1.72   Skew:                             1.42\n",
       "Prob(H) (two-sided):                  0.29   Kurtosis:                         5.31\n",
       "===================================================================================\n",
       "\n",
       "Warnings:\n",
       "[1] Covariance matrix calculated using the outer product of gradients (complex-step).\n",
       "\"\"\""
      ]
     },
     "execution_count": 130,
     "metadata": {},
     "output_type": "execute_result"
    }
   ],
   "source": [
    "from pmdarima import auto_arima   \n",
    "auto_arima(top10['Sales'], seasonal=True, m=12,max_p=7, max_d=5,max_q=7, max_P=4, max_D=4,max_Q=4).summary()"
   ]
  },
  {
   "cell_type": "markdown",
   "metadata": {},
   "source": [
    "As we can see best arima model chosen by auto_arima() is SARIMAX(0, 0, 1)"
   ]
  },
  {
   "cell_type": "markdown",
   "metadata": {},
   "source": [
    "# Splitting the dataset into train and test set"
   ]
  },
  {
   "cell_type": "code",
   "execution_count": 131,
   "metadata": {},
   "outputs": [],
   "source": [
    "train_data = top10[:len(top10)-12]\n",
    "test_data = top10[len(top10)-12:]"
   ]
  },
  {
   "cell_type": "code",
   "execution_count": 132,
   "metadata": {},
   "outputs": [
    {
     "name": "stderr",
     "output_type": "stream",
     "text": [
      "/home/sync_ai/Documents/python3/lib/python3.6/site-packages/statsmodels/tsa/base/tsa_model.py:162: ValueWarning:\n",
      "\n",
      "No frequency information was provided, so inferred frequency MS will be used.\n",
      "\n",
      "/home/sync_ai/Documents/python3/lib/python3.6/site-packages/statsmodels/tsa/base/tsa_model.py:162: ValueWarning:\n",
      "\n",
      "No frequency information was provided, so inferred frequency MS will be used.\n",
      "\n",
      "/home/sync_ai/Documents/python3/lib/python3.6/site-packages/statsmodels/tsa/statespace/sarimax.py:868: UserWarning:\n",
      "\n",
      "Too few observations to estimate starting parameters for seasonal ARMA. All parameters except for variances will be set to zeros.\n",
      "\n",
      "/home/sync_ai/Documents/python3/lib/python3.6/site-packages/statsmodels/base/model.py:568: ConvergenceWarning:\n",
      "\n",
      "Maximum Likelihood optimization failed to converge. Check mle_retvals\n",
      "\n"
     ]
    },
    {
     "data": {
      "text/html": [
       "<table class=\"simpletable\">\n",
       "<caption>SARIMAX Results</caption>\n",
       "<tr>\n",
       "  <th>Dep. Variable:</th>                    <td>Sales</td>                 <th>  No. Observations:  </th>    <td>36</td>   \n",
       "</tr>\n",
       "<tr>\n",
       "  <th>Model:</th>           <td>SARIMAX(0, 0, 1)x(1, 2, [1, 2, 3], 12)</td> <th>  Log Likelihood     </th> <td>-118.665</td>\n",
       "</tr>\n",
       "<tr>\n",
       "  <th>Date:</th>                       <td>Sun, 19 Jul 2020</td>            <th>  AIC                </th>  <td>249.330</td>\n",
       "</tr>\n",
       "<tr>\n",
       "  <th>Time:</th>                           <td>11:48:10</td>                <th>  BIC                </th>  <td>252.239</td>\n",
       "</tr>\n",
       "<tr>\n",
       "  <th>Sample:</th>                        <td>01-01-2014</td>               <th>  HQIC               </th>  <td>248.253</td>\n",
       "</tr>\n",
       "<tr>\n",
       "  <th></th>                              <td>- 12-01-2016</td>              <th>                     </th>     <td> </td>   \n",
       "</tr>\n",
       "<tr>\n",
       "  <th>Covariance Type:</th>                   <td>opg</td>                  <th>                     </th>     <td> </td>   \n",
       "</tr>\n",
       "</table>\n",
       "<table class=\"simpletable\">\n",
       "<tr>\n",
       "      <td></td>        <th>coef</th>     <th>std err</th>      <th>z</th>      <th>P>|z|</th>  <th>[0.025</th>    <th>0.975]</th>  \n",
       "</tr>\n",
       "<tr>\n",
       "  <th>ma.L1</th>    <td>    0.0927</td> <td>    1.371</td> <td>    0.068</td> <td> 0.946</td> <td>   -2.594</td> <td>    2.780</td>\n",
       "</tr>\n",
       "<tr>\n",
       "  <th>ar.S.L12</th> <td>   -0.9906</td> <td>   12.688</td> <td>   -0.078</td> <td> 0.938</td> <td>  -25.858</td> <td>   23.877</td>\n",
       "</tr>\n",
       "<tr>\n",
       "  <th>ma.S.L12</th> <td>   -0.6615</td> <td> 3813.913</td> <td>   -0.000</td> <td> 1.000</td> <td>-7475.793</td> <td> 7474.470</td>\n",
       "</tr>\n",
       "<tr>\n",
       "  <th>ma.S.L24</th> <td>   -0.6787</td> <td> 3493.272</td> <td>   -0.000</td> <td> 1.000</td> <td>-6847.367</td> <td> 6846.009</td>\n",
       "</tr>\n",
       "<tr>\n",
       "  <th>ma.S.L36</th> <td>    0.9827</td> <td>  136.536</td> <td>    0.007</td> <td> 0.994</td> <td> -266.624</td> <td>  268.589</td>\n",
       "</tr>\n",
       "<tr>\n",
       "  <th>sigma2</th>   <td> 1.286e+07</td> <td>    0.001</td> <td> 1.67e+10</td> <td> 0.000</td> <td> 1.29e+07</td> <td> 1.29e+07</td>\n",
       "</tr>\n",
       "</table>\n",
       "<table class=\"simpletable\">\n",
       "<tr>\n",
       "  <th>Ljung-Box (Q):</th>          <td>11.49</td> <th>  Jarque-Bera (JB):  </th> <td>1.55</td>\n",
       "</tr>\n",
       "<tr>\n",
       "  <th>Prob(Q):</th>                <td>0.40</td>  <th>  Prob(JB):          </th> <td>0.46</td>\n",
       "</tr>\n",
       "<tr>\n",
       "  <th>Heteroskedasticity (H):</th> <td>2.25</td>  <th>  Skew:              </th> <td>0.85</td>\n",
       "</tr>\n",
       "<tr>\n",
       "  <th>Prob(H) (two-sided):</th>    <td>0.45</td>  <th>  Kurtosis:          </th> <td>3.47</td>\n",
       "</tr>\n",
       "</table><br/><br/>Warnings:<br/>[1] Covariance matrix calculated using the outer product of gradients (complex-step).<br/>[2] Covariance matrix is singular or near-singular, with condition number  3e+29. Standard errors may be unstable."
      ],
      "text/plain": [
       "<class 'statsmodels.iolib.summary.Summary'>\n",
       "\"\"\"\n",
       "                                         SARIMAX Results                                          \n",
       "==================================================================================================\n",
       "Dep. Variable:                                      Sales   No. Observations:                   36\n",
       "Model:             SARIMAX(0, 0, 1)x(1, 2, [1, 2, 3], 12)   Log Likelihood                -118.665\n",
       "Date:                                    Sun, 19 Jul 2020   AIC                            249.330\n",
       "Time:                                            11:48:10   BIC                            252.239\n",
       "Sample:                                        01-01-2014   HQIC                           248.253\n",
       "                                             - 12-01-2016                                         \n",
       "Covariance Type:                                      opg                                         \n",
       "==============================================================================\n",
       "                 coef    std err          z      P>|z|      [0.025      0.975]\n",
       "------------------------------------------------------------------------------\n",
       "ma.L1          0.0927      1.371      0.068      0.946      -2.594       2.780\n",
       "ar.S.L12      -0.9906     12.688     -0.078      0.938     -25.858      23.877\n",
       "ma.S.L12      -0.6615   3813.913     -0.000      1.000   -7475.793    7474.470\n",
       "ma.S.L24      -0.6787   3493.272     -0.000      1.000   -6847.367    6846.009\n",
       "ma.S.L36       0.9827    136.536      0.007      0.994    -266.624     268.589\n",
       "sigma2      1.286e+07      0.001   1.67e+10      0.000    1.29e+07    1.29e+07\n",
       "===================================================================================\n",
       "Ljung-Box (Q):                       11.49   Jarque-Bera (JB):                 1.55\n",
       "Prob(Q):                              0.40   Prob(JB):                         0.46\n",
       "Heteroskedasticity (H):               2.25   Skew:                             0.85\n",
       "Prob(H) (two-sided):                  0.45   Kurtosis:                         3.47\n",
       "===================================================================================\n",
       "\n",
       "Warnings:\n",
       "[1] Covariance matrix calculated using the outer product of gradients (complex-step).\n",
       "[2] Covariance matrix is singular or near-singular, with condition number  3e+29. Standard errors may be unstable.\n",
       "\"\"\""
      ]
     },
     "execution_count": 132,
     "metadata": {},
     "output_type": "execute_result"
    }
   ],
   "source": [
    "arima_model = SARIMAX(train_data['Sales'], order = (0,0,1), seasonal_order = (1,2,3,12))\n",
    "arima_result = arima_model.fit()\n",
    "arima_result.summary()"
   ]
  },
  {
   "cell_type": "code",
   "execution_count": 133,
   "metadata": {},
   "outputs": [
    {
     "data": {
      "text/plain": [
       "2017-01-01     2366.019664\n",
       "2017-02-01     2113.676070\n",
       "2017-03-01     6219.688582\n",
       "2017-04-01     5053.180794\n",
       "2017-05-01     2287.312535\n",
       "2017-06-01     5034.373264\n",
       "2017-07-01     2837.784378\n",
       "2017-08-01     3122.268560\n",
       "2017-09-01    11614.792143\n",
       "2017-10-01     5461.522156\n",
       "2017-11-01     6862.654379\n",
       "2017-12-01    16393.653974\n",
       "Freq: MS, Name: ARIMA Predictions, dtype: float64"
      ]
     },
     "execution_count": 133,
     "metadata": {},
     "output_type": "execute_result"
    }
   ],
   "source": [
    "arima_pred = arima_result.predict(start = len(train_data), end = len(top10)-1, typ=\"levels\").rename(\"ARIMA Predictions\")\n",
    "arima_pred"
   ]
  },
  {
   "cell_type": "code",
   "execution_count": 134,
   "metadata": {},
   "outputs": [
    {
     "data": {
      "image/png": "[encoded data removed]",
      "text/plain": [
       "<Figure size 1152x360 with 1 Axes>"
      ]
     },
     "metadata": {
      "needs_background": "light"
     },
     "output_type": "display_data"
    }
   ],
   "source": [
    "test_data['Sales'].plot(figsize = (16,5), legend=True)\n",
    "arima_pred.plot(legend = True);"
   ]
  },
  {
   "cell_type": "markdown",
   "metadata": {},
   "source": [
    "calculating MSE, MAPE and RMSE values"
   ]
  },
  {
   "cell_type": "code",
   "execution_count": 135,
   "metadata": {},
   "outputs": [
    {
     "name": "stdout",
     "output_type": "stream",
     "text": [
      "MSE Error: 25553779.84084509\n",
      "RMSE Error: 5055.074662242398\n",
      "Mean: 229.85800083049833\n",
      "MAPE: 75.88467844311094\n"
     ]
    }
   ],
   "source": [
    "arima_rmse_error = rmse(test_data['Sales'], arima_pred)\n",
    "arima_mse_error = arima_rmse_error**2\n",
    "mean_value = df['Sales'].mean()\n",
    "arima_mape = np.mean(np.abs((arima_pred - test_data['Sales']) / test_data['Sales'])) * 100\n",
    "print(f'MSE Error: {arima_mse_error}\\nRMSE Error: {arima_rmse_error}\\nMean: {mean_value}\\nMAPE: {arima_mape}')"
   ]
  },
  {
   "cell_type": "code",
   "execution_count": 136,
   "metadata": {},
   "outputs": [
    {
     "name": "stderr",
     "output_type": "stream",
     "text": [
      "/home/sync_ai/Documents/python3/lib/python3.6/site-packages/ipykernel_launcher.py:1: SettingWithCopyWarning:\n",
      "\n",
      "\n",
      "A value is trying to be set on a copy of a slice from a DataFrame.\n",
      "Try using .loc[row_indexer,col_indexer] = value instead\n",
      "\n",
      "See the caveats in the documentation: https://pandas.pydata.org/pandas-docs/stable/user_guide/indexing.html#returning-a-view-versus-a-copy\n",
      "\n"
     ]
    },
    {
     "data": {
      "text/html": [
       "<div>\n",
       "<style scoped>\n",
       "    .dataframe tbody tr th:only-of-type {\n",
       "        vertical-align: middle;\n",
       "    }\n",
       "\n",
       "    .dataframe tbody tr th {\n",
       "        vertical-align: top;\n",
       "    }\n",
       "\n",
       "    .dataframe thead th {\n",
       "        text-align: right;\n",
       "    }\n",
       "</style>\n",
       "<table border=\"1\" class=\"dataframe\">\n",
       "  <thead>\n",
       "    <tr style=\"text-align: right;\">\n",
       "      <th></th>\n",
       "      <th>Sales</th>\n",
       "      <th>ARIMA_Predictions</th>\n",
       "    </tr>\n",
       "    <tr>\n",
       "      <th>Order_Date</th>\n",
       "      <th></th>\n",
       "      <th></th>\n",
       "    </tr>\n",
       "  </thead>\n",
       "  <tbody>\n",
       "    <tr>\n",
       "      <th>2017-01-01</th>\n",
       "      <td>9436.823</td>\n",
       "      <td>2366.019664</td>\n",
       "    </tr>\n",
       "    <tr>\n",
       "      <th>2017-02-01</th>\n",
       "      <td>626.722</td>\n",
       "      <td>2113.676070</td>\n",
       "    </tr>\n",
       "    <tr>\n",
       "      <th>2017-03-01</th>\n",
       "      <td>2785.488</td>\n",
       "      <td>6219.688582</td>\n",
       "    </tr>\n",
       "    <tr>\n",
       "      <th>2017-04-01</th>\n",
       "      <td>4915.515</td>\n",
       "      <td>5053.180794</td>\n",
       "    </tr>\n",
       "    <tr>\n",
       "      <th>2017-05-01</th>\n",
       "      <td>2928.624</td>\n",
       "      <td>2287.312535</td>\n",
       "    </tr>\n",
       "    <tr>\n",
       "      <th>2017-06-01</th>\n",
       "      <td>2427.041</td>\n",
       "      <td>5034.373264</td>\n",
       "    </tr>\n",
       "    <tr>\n",
       "      <th>2017-07-01</th>\n",
       "      <td>2471.588</td>\n",
       "      <td>2837.784378</td>\n",
       "    </tr>\n",
       "    <tr>\n",
       "      <th>2017-08-01</th>\n",
       "      <td>12873.224</td>\n",
       "      <td>3122.268560</td>\n",
       "    </tr>\n",
       "    <tr>\n",
       "      <th>2017-09-01</th>\n",
       "      <td>12157.035</td>\n",
       "      <td>11614.792143</td>\n",
       "    </tr>\n",
       "    <tr>\n",
       "      <th>2017-10-01</th>\n",
       "      <td>10139.318</td>\n",
       "      <td>5461.522156</td>\n",
       "    </tr>\n",
       "    <tr>\n",
       "      <th>2017-11-01</th>\n",
       "      <td>6490.565</td>\n",
       "      <td>6862.654379</td>\n",
       "    </tr>\n",
       "    <tr>\n",
       "      <th>2017-12-01</th>\n",
       "      <td>5536.102</td>\n",
       "      <td>16393.653974</td>\n",
       "    </tr>\n",
       "  </tbody>\n",
       "</table>\n",
       "</div>"
      ],
      "text/plain": [
       "                Sales  ARIMA_Predictions\n",
       "Order_Date                              \n",
       "2017-01-01   9436.823        2366.019664\n",
       "2017-02-01    626.722        2113.676070\n",
       "2017-03-01   2785.488        6219.688582\n",
       "2017-04-01   4915.515        5053.180794\n",
       "2017-05-01   2928.624        2287.312535\n",
       "2017-06-01   2427.041        5034.373264\n",
       "2017-07-01   2471.588        2837.784378\n",
       "2017-08-01  12873.224        3122.268560\n",
       "2017-09-01  12157.035       11614.792143\n",
       "2017-10-01  10139.318        5461.522156\n",
       "2017-11-01   6490.565        6862.654379\n",
       "2017-12-01   5536.102       16393.653974"
      ]
     },
     "execution_count": 136,
     "metadata": {},
     "output_type": "execute_result"
    }
   ],
   "source": [
    "test_data['ARIMA_Predictions'] = arima_pred\n",
    "test_data"
   ]
  },
  {
   "cell_type": "markdown",
   "metadata": {},
   "source": [
    "# LSTM forecast\n",
    "First we will scale our train and test data with MiMaxScaler().\n",
    "MinMaxScaler features by scaling each feature to a given range. "
   ]
  },
  {
   "cell_type": "code",
   "execution_count": 137,
   "metadata": {},
   "outputs": [],
   "source": [
    "from sklearn.preprocessing import MinMaxScaler\n",
    "scaler = MinMaxScaler()\n",
    "scaler.fit(train_data)\n",
    "scaled_train_data = scaler.transform(train_data)\n",
    "scaled_test_data = scaler.transform(test_data)"
   ]
  },
  {
   "cell_type": "markdown",
   "metadata": {},
   "source": [
    "TimeseriesGenerator() generates batches of temporal data."
   ]
  },
  {
   "cell_type": "code",
   "execution_count": 138,
   "metadata": {},
   "outputs": [
    {
     "name": "stdout",
     "output_type": "stream",
     "text": [
      "Model: \"sequential_3\"\n",
      "_________________________________________________________________\n",
      "Layer (type)                 Output Shape              Param #   \n",
      "=================================================================\n",
      "lstm_3 (LSTM)                (None, 200)               161600    \n",
      "_________________________________________________________________\n",
      "dense_3 (Dense)              (None, 1)                 201       \n",
      "=================================================================\n",
      "Total params: 161,801\n",
      "Trainable params: 161,801\n",
      "Non-trainable params: 0\n",
      "_________________________________________________________________\n"
     ]
    }
   ],
   "source": [
    "from keras.preprocessing.sequence import TimeseriesGenerator\n",
    "\n",
    "n_input = 12\n",
    "n_features= 1\n",
    "generator = TimeseriesGenerator(scaled_train_data, scaled_train_data, length=n_input, batch_size=1)\n",
    "from keras.models import Sequential\n",
    "from keras.layers import Dense\n",
    "from keras.layers import LSTM\n",
    "\n",
    "lstm_model = Sequential()\n",
    "lstm_model.add(LSTM(200, activation='relu', input_shape=(n_input, n_features)))\n",
    "lstm_model.add(Dense(1))\n",
    "lstm_model.compile(optimizer='adam', loss='mse')\n",
    "\n",
    "lstm_model.summary()"
   ]
  },
  {
   "cell_type": "code",
   "execution_count": 139,
   "metadata": {},
   "outputs": [
    {
     "name": "stdout",
     "output_type": "stream",
     "text": [
      "Epoch 1/220\n",
      "24/24 [==============================] - 0s 20ms/step - loss: 0.0563\n",
      "Epoch 2/220\n",
      "24/24 [==============================] - 0s 11ms/step - loss: 0.0537\n",
      "Epoch 3/220\n",
      "24/24 [==============================] - 0s 9ms/step - loss: 0.0526\n",
      "Epoch 4/220\n",
      "24/24 [==============================] - 0s 8ms/step - loss: 0.0508\n",
      "Epoch 5/220\n",
      "24/24 [==============================] - 0s 9ms/step - loss: 0.0504\n",
      "Epoch 6/220\n",
      "24/24 [==============================] - 0s 8ms/step - loss: 0.0527\n",
      "Epoch 7/220\n",
      "24/24 [==============================] - 0s 8ms/step - loss: 0.0535\n",
      "Epoch 8/220\n",
      "24/24 [==============================] - 0s 8ms/step - loss: 0.0499\n",
      "Epoch 9/220\n",
      "24/24 [==============================] - 0s 14ms/step - loss: 0.0499\n",
      "Epoch 10/220\n",
      "24/24 [==============================] - 0s 8ms/step - loss: 0.0489\n",
      "Epoch 11/220\n",
      "24/24 [==============================] - 0s 11ms/step - loss: 0.0491\n",
      "Epoch 12/220\n",
      "24/24 [==============================] - 0s 8ms/step - loss: 0.0508\n",
      "Epoch 13/220\n",
      "24/24 [==============================] - 0s 11ms/step - loss: 0.0512\n",
      "Epoch 14/220\n",
      "24/24 [==============================] - 0s 7ms/step - loss: 0.0516\n",
      "Epoch 15/220\n",
      "24/24 [==============================] - 0s 8ms/step - loss: 0.0511\n",
      "Epoch 16/220\n",
      "24/24 [==============================] - 0s 9ms/step - loss: 0.0493\n",
      "Epoch 17/220\n",
      "24/24 [==============================] - 0s 8ms/step - loss: 0.0489\n",
      "Epoch 18/220\n",
      "24/24 [==============================] - 0s 8ms/step - loss: 0.0501\n",
      "Epoch 19/220\n",
      "24/24 [==============================] - 0s 8ms/step - loss: 0.0505\n",
      "Epoch 20/220\n",
      "24/24 [==============================] - 0s 8ms/step - loss: 0.0485\n",
      "Epoch 21/220\n",
      "24/24 [==============================] - 0s 8ms/step - loss: 0.0481\n",
      "Epoch 22/220\n",
      "24/24 [==============================] - 0s 12ms/step - loss: 0.0485\n",
      "Epoch 23/220\n",
      "24/24 [==============================] - 0s 8ms/step - loss: 0.0478\n",
      "Epoch 24/220\n",
      "24/24 [==============================] - 0s 8ms/step - loss: 0.0483\n",
      "Epoch 25/220\n",
      "24/24 [==============================] - 0s 8ms/step - loss: 0.0467\n",
      "Epoch 26/220\n",
      "24/24 [==============================] - 0s 7ms/step - loss: 0.0484\n",
      "Epoch 27/220\n",
      "24/24 [==============================] - 0s 8ms/step - loss: 0.0473\n",
      "Epoch 28/220\n",
      "24/24 [==============================] - 0s 8ms/step - loss: 0.0482\n",
      "Epoch 29/220\n",
      "24/24 [==============================] - 0s 12ms/step - loss: 0.0477\n",
      "Epoch 30/220\n",
      "24/24 [==============================] - 0s 9ms/step - loss: 0.0454\n",
      "Epoch 31/220\n",
      "24/24 [==============================] - 0s 9ms/step - loss: 0.0461\n",
      "Epoch 32/220\n",
      "24/24 [==============================] - 0s 9ms/step - loss: 0.0468\n",
      "Epoch 33/220\n",
      "24/24 [==============================] - 0s 9ms/step - loss: 0.0457\n",
      "Epoch 34/220\n",
      "24/24 [==============================] - 0s 8ms/step - loss: 0.0453\n",
      "Epoch 35/220\n",
      "24/24 [==============================] - 0s 7ms/step - loss: 0.0517\n",
      "Epoch 36/220\n",
      "24/24 [==============================] - 0s 7ms/step - loss: 0.0483\n",
      "Epoch 37/220\n",
      "24/24 [==============================] - 0s 13ms/step - loss: 0.0451\n",
      "Epoch 38/220\n",
      "24/24 [==============================] - 0s 9ms/step - loss: 0.0434\n",
      "Epoch 39/220\n",
      "24/24 [==============================] - 0s 9ms/step - loss: 0.0399\n",
      "Epoch 40/220\n",
      "24/24 [==============================] - 0s 9ms/step - loss: 0.0438\n",
      "Epoch 41/220\n",
      "24/24 [==============================] - 0s 8ms/step - loss: 0.0411\n",
      "Epoch 42/220\n",
      "24/24 [==============================] - 0s 8ms/step - loss: 0.0416\n",
      "Epoch 43/220\n",
      "24/24 [==============================] - 0s 8ms/step - loss: 0.0414\n",
      "Epoch 44/220\n",
      "24/24 [==============================] - 0s 9ms/step - loss: 0.0396\n",
      "Epoch 45/220\n",
      "24/24 [==============================] - 0s 8ms/step - loss: 0.0384\n",
      "Epoch 46/220\n",
      "24/24 [==============================] - 0s 8ms/step - loss: 0.0362\n",
      "Epoch 47/220\n",
      "24/24 [==============================] - 0s 8ms/step - loss: 0.0357\n",
      "Epoch 48/220\n",
      "24/24 [==============================] - 0s 8ms/step - loss: 0.0359\n",
      "Epoch 49/220\n",
      "24/24 [==============================] - 0s 8ms/step - loss: 0.0351\n",
      "Epoch 50/220\n",
      "24/24 [==============================] - 0s 8ms/step - loss: 0.0363\n",
      "Epoch 51/220\n",
      "24/24 [==============================] - 0s 9ms/step - loss: 0.0356\n",
      "Epoch 52/220\n",
      "24/24 [==============================] - 0s 9ms/step - loss: 0.0370\n",
      "Epoch 53/220\n",
      "24/24 [==============================] - 0s 8ms/step - loss: 0.0324\n",
      "Epoch 54/220\n",
      "24/24 [==============================] - 0s 8ms/step - loss: 0.0337\n",
      "Epoch 55/220\n",
      "24/24 [==============================] - 0s 8ms/step - loss: 0.0377\n",
      "Epoch 56/220\n",
      "24/24 [==============================] - 0s 8ms/step - loss: 0.0348\n",
      "Epoch 57/220\n",
      "24/24 [==============================] - 0s 9ms/step - loss: 0.0331\n",
      "Epoch 58/220\n",
      "24/24 [==============================] - 0s 8ms/step - loss: 0.0321\n",
      "Epoch 59/220\n",
      "24/24 [==============================] - 0s 8ms/step - loss: 0.0351\n",
      "Epoch 60/220\n",
      "24/24 [==============================] - 0s 8ms/step - loss: 0.0304\n",
      "Epoch 61/220\n",
      "24/24 [==============================] - 0s 8ms/step - loss: 0.0317\n",
      "Epoch 62/220\n",
      "24/24 [==============================] - 0s 8ms/step - loss: 0.0337\n",
      "Epoch 63/220\n",
      "24/24 [==============================] - 0s 8ms/step - loss: 0.0299\n",
      "Epoch 64/220\n",
      "24/24 [==============================] - 0s 7ms/step - loss: 0.0302\n",
      "Epoch 65/220\n",
      "24/24 [==============================] - 0s 11ms/step - loss: 0.0268\n",
      "Epoch 66/220\n",
      "24/24 [==============================] - 0s 8ms/step - loss: 0.0275\n",
      "Epoch 67/220\n",
      "24/24 [==============================] - 0s 9ms/step - loss: 0.0281\n",
      "Epoch 68/220\n",
      "24/24 [==============================] - 0s 9ms/step - loss: 0.0264\n",
      "Epoch 69/220\n",
      "24/24 [==============================] - 0s 7ms/step - loss: 0.0255\n",
      "Epoch 70/220\n",
      "24/24 [==============================] - 0s 10ms/step - loss: 0.0270\n",
      "Epoch 71/220\n",
      "24/24 [==============================] - 0s 12ms/step - loss: 0.0228\n",
      "Epoch 72/220\n",
      "24/24 [==============================] - 0s 9ms/step - loss: 0.0245\n",
      "Epoch 73/220\n",
      "24/24 [==============================] - 0s 9ms/step - loss: 0.0247\n",
      "Epoch 74/220\n",
      "24/24 [==============================] - 0s 9ms/step - loss: 0.0248\n",
      "Epoch 75/220\n",
      "24/24 [==============================] - 0s 9ms/step - loss: 0.0272\n",
      "Epoch 76/220\n",
      "24/24 [==============================] - 0s 8ms/step - loss: 0.0236\n",
      "Epoch 77/220\n",
      "24/24 [==============================] - 0s 8ms/step - loss: 0.0213\n",
      "Epoch 78/220\n",
      "24/24 [==============================] - 0s 13ms/step - loss: 0.0242\n",
      "Epoch 79/220\n",
      "24/24 [==============================] - 0s 6ms/step - loss: 0.0209\n",
      "Epoch 80/220\n",
      "24/24 [==============================] - 0s 12ms/step - loss: 0.0205\n",
      "Epoch 81/220\n",
      "24/24 [==============================] - 0s 9ms/step - loss: 0.0202\n",
      "Epoch 82/220\n",
      "24/24 [==============================] - 0s 9ms/step - loss: 0.0217\n",
      "Epoch 83/220\n",
      "24/24 [==============================] - 0s 8ms/step - loss: 0.0206\n",
      "Epoch 84/220\n",
      "24/24 [==============================] - 0s 8ms/step - loss: 0.0211\n",
      "Epoch 85/220\n",
      "24/24 [==============================] - 0s 9ms/step - loss: 0.0220\n",
      "Epoch 86/220\n",
      "24/24 [==============================] - 0s 6ms/step - loss: 0.0226\n",
      "Epoch 87/220\n",
      "24/24 [==============================] - 0s 6ms/step - loss: 0.0205\n",
      "Epoch 88/220\n",
      "24/24 [==============================] - 0s 15ms/step - loss: 0.0236\n",
      "Epoch 89/220\n",
      "24/24 [==============================] - 0s 10ms/step - loss: 0.0206\n",
      "Epoch 90/220\n",
      "24/24 [==============================] - 0s 7ms/step - loss: 0.0203\n",
      "Epoch 91/220\n",
      "24/24 [==============================] - 0s 7ms/step - loss: 0.0216\n",
      "Epoch 92/220\n",
      "24/24 [==============================] - 0s 7ms/step - loss: 0.0204\n",
      "Epoch 93/220\n",
      "24/24 [==============================] - 0s 8ms/step - loss: 0.0235\n",
      "Epoch 94/220\n",
      "24/24 [==============================] - 0s 8ms/step - loss: 0.0210\n",
      "Epoch 95/220\n",
      "24/24 [==============================] - 0s 7ms/step - loss: 0.0186\n",
      "Epoch 96/220\n",
      "24/24 [==============================] - 0s 7ms/step - loss: 0.0185\n",
      "Epoch 97/220\n",
      "24/24 [==============================] - 0s 8ms/step - loss: 0.0181\n",
      "Epoch 98/220\n",
      "24/24 [==============================] - 0s 8ms/step - loss: 0.0181\n",
      "Epoch 99/220\n",
      "24/24 [==============================] - 0s 9ms/step - loss: 0.0183\n",
      "Epoch 100/220\n",
      "24/24 [==============================] - 0s 9ms/step - loss: 0.0179\n",
      "Epoch 101/220\n",
      "24/24 [==============================] - 0s 7ms/step - loss: 0.0159\n",
      "Epoch 102/220\n"
     ]
    },
    {
     "name": "stdout",
     "output_type": "stream",
     "text": [
      "24/24 [==============================] - 0s 7ms/step - loss: 0.0196\n",
      "Epoch 103/220\n",
      "24/24 [==============================] - 0s 12ms/step - loss: 0.0183\n",
      "Epoch 104/220\n",
      "24/24 [==============================] - 0s 16ms/step - loss: 0.0203\n",
      "Epoch 105/220\n",
      "24/24 [==============================] - 0s 7ms/step - loss: 0.0190\n",
      "Epoch 106/220\n",
      "24/24 [==============================] - 0s 7ms/step - loss: 0.0204\n",
      "Epoch 107/220\n",
      "24/24 [==============================] - 0s 7ms/step - loss: 0.0186\n",
      "Epoch 108/220\n",
      "24/24 [==============================] - 0s 9ms/step - loss: 0.0174\n",
      "Epoch 109/220\n",
      "24/24 [==============================] - 0s 9ms/step - loss: 0.0161\n",
      "Epoch 110/220\n",
      "24/24 [==============================] - 0s 10ms/step - loss: 0.0169\n",
      "Epoch 111/220\n",
      "24/24 [==============================] - 0s 9ms/step - loss: 0.0187\n",
      "Epoch 112/220\n",
      "24/24 [==============================] - 0s 9ms/step - loss: 0.0170\n",
      "Epoch 113/220\n",
      "24/24 [==============================] - 0s 9ms/step - loss: 0.0157\n",
      "Epoch 114/220\n",
      "24/24 [==============================] - 0s 9ms/step - loss: 0.0163\n",
      "Epoch 115/220\n",
      "24/24 [==============================] - 0s 10ms/step - loss: 0.0180\n",
      "Epoch 116/220\n",
      "24/24 [==============================] - 0s 9ms/step - loss: 0.0176\n",
      "Epoch 117/220\n",
      "24/24 [==============================] - 0s 10ms/step - loss: 0.0157\n",
      "Epoch 118/220\n",
      "24/24 [==============================] - 0s 9ms/step - loss: 0.0143\n",
      "Epoch 119/220\n",
      "24/24 [==============================] - 0s 9ms/step - loss: 0.0146\n",
      "Epoch 120/220\n",
      "24/24 [==============================] - 0s 10ms/step - loss: 0.0136\n",
      "Epoch 121/220\n",
      "24/24 [==============================] - 0s 9ms/step - loss: 0.0139\n",
      "Epoch 122/220\n",
      "24/24 [==============================] - 0s 9ms/step - loss: 0.0146\n",
      "Epoch 123/220\n",
      "24/24 [==============================] - 0s 9ms/step - loss: 0.0137\n",
      "Epoch 124/220\n",
      "24/24 [==============================] - 0s 9ms/step - loss: 0.0136\n",
      "Epoch 125/220\n",
      "24/24 [==============================] - 0s 10ms/step - loss: 0.0135\n",
      "Epoch 126/220\n",
      "24/24 [==============================] - 0s 9ms/step - loss: 0.0157\n",
      "Epoch 127/220\n",
      "24/24 [==============================] - 0s 9ms/step - loss: 0.0156\n",
      "Epoch 128/220\n",
      "24/24 [==============================] - 0s 8ms/step - loss: 0.0123\n",
      "Epoch 129/220\n",
      "24/24 [==============================] - 0s 8ms/step - loss: 0.0132\n",
      "Epoch 130/220\n",
      "24/24 [==============================] - 0s 8ms/step - loss: 0.0131\n",
      "Epoch 131/220\n",
      "24/24 [==============================] - 0s 8ms/step - loss: 0.0145\n",
      "Epoch 132/220\n",
      "24/24 [==============================] - 0s 8ms/step - loss: 0.0122\n",
      "Epoch 133/220\n",
      "24/24 [==============================] - 0s 7ms/step - loss: 0.0112\n",
      "Epoch 134/220\n",
      "24/24 [==============================] - 0s 8ms/step - loss: 0.0119\n",
      "Epoch 135/220\n",
      "24/24 [==============================] - 0s 8ms/step - loss: 0.0127\n",
      "Epoch 136/220\n",
      "24/24 [==============================] - 0s 8ms/step - loss: 0.0109\n",
      "Epoch 137/220\n",
      "24/24 [==============================] - 0s 8ms/step - loss: 0.0111\n",
      "Epoch 138/220\n",
      "24/24 [==============================] - 0s 8ms/step - loss: 0.0096\n",
      "Epoch 139/220\n",
      "24/24 [==============================] - 0s 7ms/step - loss: 0.0095\n",
      "Epoch 140/220\n",
      "24/24 [==============================] - 0s 10ms/step - loss: 0.0090\n",
      "Epoch 141/220\n",
      "24/24 [==============================] - 0s 10ms/step - loss: 0.0108\n",
      "Epoch 142/220\n",
      "24/24 [==============================] - 0s 9ms/step - loss: 0.0115\n",
      "Epoch 143/220\n",
      "24/24 [==============================] - 0s 7ms/step - loss: 0.0102\n",
      "Epoch 144/220\n",
      "24/24 [==============================] - 0s 7ms/step - loss: 0.0089\n",
      "Epoch 145/220\n",
      "24/24 [==============================] - 0s 8ms/step - loss: 0.0073\n",
      "Epoch 146/220\n",
      "24/24 [==============================] - 0s 9ms/step - loss: 0.0113\n",
      "Epoch 147/220\n",
      "24/24 [==============================] - 0s 8ms/step - loss: 0.0147\n",
      "Epoch 148/220\n",
      "24/24 [==============================] - 0s 8ms/step - loss: 0.0107\n",
      "Epoch 149/220\n",
      "24/24 [==============================] - 0s 8ms/step - loss: 0.0108\n",
      "Epoch 150/220\n",
      "24/24 [==============================] - 0s 8ms/step - loss: 0.0084\n",
      "Epoch 151/220\n",
      "24/24 [==============================] - 0s 8ms/step - loss: 0.0088\n",
      "Epoch 152/220\n",
      "24/24 [==============================] - 0s 8ms/step - loss: 0.0068\n",
      "Epoch 153/220\n",
      "24/24 [==============================] - 0s 8ms/step - loss: 0.0073\n",
      "Epoch 154/220\n",
      "24/24 [==============================] - 0s 10ms/step - loss: 0.0093\n",
      "Epoch 155/220\n",
      "24/24 [==============================] - 0s 9ms/step - loss: 0.0269\n",
      "Epoch 156/220\n",
      "24/24 [==============================] - 0s 9ms/step - loss: 0.0161\n",
      "Epoch 157/220\n",
      "24/24 [==============================] - 0s 9ms/step - loss: 0.0160\n",
      "Epoch 158/220\n",
      "24/24 [==============================] - 0s 8ms/step - loss: 0.0105\n",
      "Epoch 159/220\n",
      "24/24 [==============================] - 0s 9ms/step - loss: 0.0082\n",
      "Epoch 160/220\n",
      "24/24 [==============================] - 0s 9ms/step - loss: 0.0088\n",
      "Epoch 161/220\n",
      "24/24 [==============================] - 0s 7ms/step - loss: 0.0080\n",
      "Epoch 162/220\n",
      "24/24 [==============================] - 0s 7ms/step - loss: 0.0064\n",
      "Epoch 163/220\n",
      "24/24 [==============================] - 0s 7ms/step - loss: 0.0071\n",
      "Epoch 164/220\n",
      "24/24 [==============================] - 0s 7ms/step - loss: 0.0060\n",
      "Epoch 165/220\n",
      "24/24 [==============================] - 0s 7ms/step - loss: 0.0059\n",
      "Epoch 166/220\n",
      "24/24 [==============================] - 0s 7ms/step - loss: 0.0054\n",
      "Epoch 167/220\n",
      "24/24 [==============================] - 0s 8ms/step - loss: 0.0086\n",
      "Epoch 168/220\n",
      "24/24 [==============================] - 0s 8ms/step - loss: 0.0062\n",
      "Epoch 169/220\n",
      "24/24 [==============================] - 0s 8ms/step - loss: 0.0051\n",
      "Epoch 170/220\n",
      "24/24 [==============================] - 0s 7ms/step - loss: 0.0048\n",
      "Epoch 171/220\n",
      "24/24 [==============================] - 0s 12ms/step - loss: 0.0042\n",
      "Epoch 172/220\n",
      "24/24 [==============================] - 0s 20ms/step - loss: 0.0071\n",
      "Epoch 173/220\n",
      "24/24 [==============================] - 0s 12ms/step - loss: 0.0055\n",
      "Epoch 174/220\n",
      "24/24 [==============================] - 0s 11ms/step - loss: 0.0069\n",
      "Epoch 175/220\n",
      "24/24 [==============================] - 0s 21ms/step - loss: 0.0076\n",
      "Epoch 176/220\n",
      "24/24 [==============================] - 0s 16ms/step - loss: 0.0064\n",
      "Epoch 177/220\n",
      "24/24 [==============================] - 0s 19ms/step - loss: 0.0106\n",
      "Epoch 178/220\n",
      "24/24 [==============================] - 0s 15ms/step - loss: 0.0125\n",
      "Epoch 179/220\n",
      "24/24 [==============================] - 0s 8ms/step - loss: 0.0097\n",
      "Epoch 180/220\n",
      "24/24 [==============================] - 0s 8ms/step - loss: 0.0047\n",
      "Epoch 181/220\n",
      "24/24 [==============================] - 0s 7ms/step - loss: 0.0038\n",
      "Epoch 182/220\n",
      "24/24 [==============================] - 0s 8ms/step - loss: 0.0030\n",
      "Epoch 183/220\n",
      "24/24 [==============================] - 0s 8ms/step - loss: 0.0029\n",
      "Epoch 184/220\n",
      "24/24 [==============================] - 0s 8ms/step - loss: 0.0022\n",
      "Epoch 185/220\n",
      "24/24 [==============================] - 0s 9ms/step - loss: 0.0033\n",
      "Epoch 186/220\n",
      "24/24 [==============================] - 0s 9ms/step - loss: 0.0030\n",
      "Epoch 187/220\n",
      "24/24 [==============================] - 0s 10ms/step - loss: 0.0064\n",
      "Epoch 188/220\n",
      "24/24 [==============================] - 0s 14ms/step - loss: 0.0065\n",
      "Epoch 189/220\n",
      "24/24 [==============================] - 0s 9ms/step - loss: 0.0036\n",
      "Epoch 190/220\n",
      "24/24 [==============================] - 0s 7ms/step - loss: 0.0035\n",
      "Epoch 191/220\n",
      "24/24 [==============================] - 0s 9ms/step - loss: 0.0028\n",
      "Epoch 192/220\n",
      "24/24 [==============================] - 0s 8ms/step - loss: 0.0039\n",
      "Epoch 193/220\n",
      "24/24 [==============================] - 0s 7ms/step - loss: 0.0021\n",
      "Epoch 194/220\n",
      "24/24 [==============================] - 0s 7ms/step - loss: 0.0011\n",
      "Epoch 195/220\n",
      "24/24 [==============================] - 0s 7ms/step - loss: 8.4859e-04\n",
      "Epoch 196/220\n",
      "24/24 [==============================] - 0s 8ms/step - loss: 0.0010\n",
      "Epoch 197/220\n",
      "24/24 [==============================] - 0s 7ms/step - loss: 0.0016\n",
      "Epoch 198/220\n",
      "24/24 [==============================] - 0s 13ms/step - loss: 0.0015\n",
      "Epoch 199/220\n",
      "24/24 [==============================] - 0s 13ms/step - loss: 0.0013\n",
      "Epoch 200/220\n",
      "24/24 [==============================] - 0s 8ms/step - loss: 0.0014\n",
      "Epoch 201/220\n"
     ]
    },
    {
     "name": "stdout",
     "output_type": "stream",
     "text": [
      "24/24 [==============================] - 0s 14ms/step - loss: 0.0020\n",
      "Epoch 202/220\n",
      "24/24 [==============================] - 0s 9ms/step - loss: 0.0010\n",
      "Epoch 203/220\n",
      "24/24 [==============================] - 0s 8ms/step - loss: 0.0012\n",
      "Epoch 204/220\n",
      "24/24 [==============================] - 0s 7ms/step - loss: 7.6481e-04\n",
      "Epoch 205/220\n",
      "24/24 [==============================] - 0s 17ms/step - loss: 7.4827e-04\n",
      "Epoch 206/220\n",
      "24/24 [==============================] - 0s 17ms/step - loss: 8.0256e-04\n",
      "Epoch 207/220\n",
      "24/24 [==============================] - 0s 11ms/step - loss: 6.9834e-04\n",
      "Epoch 208/220\n",
      "24/24 [==============================] - 0s 9ms/step - loss: 4.8620e-04\n",
      "Epoch 209/220\n",
      "24/24 [==============================] - 0s 8ms/step - loss: 3.6902e-04\n",
      "Epoch 210/220\n",
      "24/24 [==============================] - 0s 13ms/step - loss: 5.1617e-04\n",
      "Epoch 211/220\n",
      "24/24 [==============================] - 0s 8ms/step - loss: 8.1342e-04\n",
      "Epoch 212/220\n",
      "24/24 [==============================] - 0s 8ms/step - loss: 7.2978e-04\n",
      "Epoch 213/220\n",
      "24/24 [==============================] - 0s 8ms/step - loss: 6.8192e-04\n",
      "Epoch 214/220\n",
      "24/24 [==============================] - 0s 7ms/step - loss: 9.0747e-04\n",
      "Epoch 215/220\n",
      "24/24 [==============================] - 0s 8ms/step - loss: 9.3863e-04\n",
      "Epoch 216/220\n",
      "24/24 [==============================] - 0s 8ms/step - loss: 0.0021\n",
      "Epoch 217/220\n",
      "24/24 [==============================] - 0s 7ms/step - loss: 0.0036\n",
      "Epoch 218/220\n",
      "24/24 [==============================] - 0s 8ms/step - loss: 0.0052\n",
      "Epoch 219/220\n",
      "24/24 [==============================] - 0s 9ms/step - loss: 0.0155\n",
      "Epoch 220/220\n",
      "24/24 [==============================] - 0s 8ms/step - loss: 0.0044\n"
     ]
    },
    {
     "data": {
      "text/plain": [
       "<keras.callbacks.callbacks.History at 0x7fd454c3a438>"
      ]
     },
     "execution_count": 139,
     "metadata": {},
     "output_type": "execute_result"
    }
   ],
   "source": [
    "lstm_model.fit_generator(generator,epochs=220)"
   ]
  },
  {
   "cell_type": "code",
   "execution_count": 140,
   "metadata": {},
   "outputs": [
    {
     "data": {
      "image/png": "[encoded data removed]",
      "text/plain": [
       "<Figure size 864x288 with 1 Axes>"
      ]
     },
     "metadata": {
      "needs_background": "light"
     },
     "output_type": "display_data"
    }
   ],
   "source": [
    "losses_lstm = lstm_model.history.history['loss']\n",
    "plt.figure(figsize=(12,4))\n",
    "plt.xlabel(\"Epochs\")\n",
    "plt.ylabel(\"Loss\")\n",
    "plt.xticks(np.arange(0,250,40))\n",
    "plt.plot(range(len(losses_lstm)),losses_lstm);"
   ]
  },
  {
   "cell_type": "code",
   "execution_count": 141,
   "metadata": {},
   "outputs": [],
   "source": [
    "lstm_predictions_scaled = list()\n",
    "\n",
    "batch = scaled_train_data[-n_input:]\n",
    "current_batch = batch.reshape((1, n_input, n_features))\n",
    "\n",
    "for i in range(len(test_data)):   \n",
    "    lstm_pred = lstm_model.predict(current_batch)[0]\n",
    "    lstm_predictions_scaled.append(lstm_pred) \n",
    "    current_batch = np.append(current_batch[:,1:,:],[[lstm_pred]],axis=1)"
   ]
  },
  {
   "cell_type": "markdown",
   "metadata": {},
   "source": [
    "As we know we scaled our data, we have to inverse it to see true predictions. "
   ]
  },
  {
   "cell_type": "code",
   "execution_count": 142,
   "metadata": {},
   "outputs": [
    {
     "data": {
      "text/plain": [
       "[array([1.3927147], dtype=float32),\n",
       " array([1.3389436], dtype=float32),\n",
       " array([1.777859], dtype=float32),\n",
       " array([0.41057956], dtype=float32),\n",
       " array([3.2893543], dtype=float32),\n",
       " array([-0.07755901], dtype=float32),\n",
       " array([1.2145329], dtype=float32),\n",
       " array([0.32457733], dtype=float32),\n",
       " array([0.5627424], dtype=float32),\n",
       " array([1.0619437], dtype=float32),\n",
       " array([0.70307726], dtype=float32),\n",
       " array([1.7833569], dtype=float32)]"
      ]
     },
     "execution_count": 142,
     "metadata": {},
     "output_type": "execute_result"
    }
   ],
   "source": [
    "lstm_predictions_scaled"
   ]
  },
  {
   "cell_type": "code",
   "execution_count": 143,
   "metadata": {},
   "outputs": [
    {
     "data": {
      "text/plain": [
       "array([[23908.7307227 ],\n",
       "       [22993.61730498],\n",
       "       [30463.37449393],\n",
       "       [ 7194.09330935],\n",
       "       [56187.01962709],\n",
       "       [-1113.37741568],\n",
       "       [20876.31145889],\n",
       "       [ 5730.44946874],\n",
       "       [ 9783.7030946 ],\n",
       "       [18279.44572796],\n",
       "       [12172.01592517],\n",
       "       [30556.94200821]])"
      ]
     },
     "execution_count": 143,
     "metadata": {},
     "output_type": "execute_result"
    }
   ],
   "source": [
    "lstm_predictions = scaler.inverse_transform(lstm_predictions_scaled)\n",
    "lstm_predictions"
   ]
  },
  {
   "cell_type": "markdown",
   "metadata": {},
   "source": [
    "Comparing ARIMA and LSTM predicitions"
   ]
  },
  {
   "cell_type": "code",
   "execution_count": 144,
   "metadata": {},
   "outputs": [
    {
     "name": "stderr",
     "output_type": "stream",
     "text": [
      "/home/sync_ai/Documents/python3/lib/python3.6/site-packages/ipykernel_launcher.py:1: SettingWithCopyWarning:\n",
      "\n",
      "\n",
      "A value is trying to be set on a copy of a slice from a DataFrame.\n",
      "Try using .loc[row_indexer,col_indexer] = value instead\n",
      "\n",
      "See the caveats in the documentation: https://pandas.pydata.org/pandas-docs/stable/user_guide/indexing.html#returning-a-view-versus-a-copy\n",
      "\n"
     ]
    },
    {
     "data": {
      "text/html": [
       "<div>\n",
       "<style scoped>\n",
       "    .dataframe tbody tr th:only-of-type {\n",
       "        vertical-align: middle;\n",
       "    }\n",
       "\n",
       "    .dataframe tbody tr th {\n",
       "        vertical-align: top;\n",
       "    }\n",
       "\n",
       "    .dataframe thead th {\n",
       "        text-align: right;\n",
       "    }\n",
       "</style>\n",
       "<table border=\"1\" class=\"dataframe\">\n",
       "  <thead>\n",
       "    <tr style=\"text-align: right;\">\n",
       "      <th></th>\n",
       "      <th>Sales</th>\n",
       "      <th>ARIMA_Predictions</th>\n",
       "      <th>LSTM_Predictions</th>\n",
       "    </tr>\n",
       "    <tr>\n",
       "      <th>Order_Date</th>\n",
       "      <th></th>\n",
       "      <th></th>\n",
       "      <th></th>\n",
       "    </tr>\n",
       "  </thead>\n",
       "  <tbody>\n",
       "    <tr>\n",
       "      <th>2017-01-01</th>\n",
       "      <td>9436.823</td>\n",
       "      <td>2366.019664</td>\n",
       "      <td>23908.730723</td>\n",
       "    </tr>\n",
       "    <tr>\n",
       "      <th>2017-02-01</th>\n",
       "      <td>626.722</td>\n",
       "      <td>2113.676070</td>\n",
       "      <td>22993.617305</td>\n",
       "    </tr>\n",
       "    <tr>\n",
       "      <th>2017-03-01</th>\n",
       "      <td>2785.488</td>\n",
       "      <td>6219.688582</td>\n",
       "      <td>30463.374494</td>\n",
       "    </tr>\n",
       "    <tr>\n",
       "      <th>2017-04-01</th>\n",
       "      <td>4915.515</td>\n",
       "      <td>5053.180794</td>\n",
       "      <td>7194.093309</td>\n",
       "    </tr>\n",
       "    <tr>\n",
       "      <th>2017-05-01</th>\n",
       "      <td>2928.624</td>\n",
       "      <td>2287.312535</td>\n",
       "      <td>56187.019627</td>\n",
       "    </tr>\n",
       "    <tr>\n",
       "      <th>2017-06-01</th>\n",
       "      <td>2427.041</td>\n",
       "      <td>5034.373264</td>\n",
       "      <td>-1113.377416</td>\n",
       "    </tr>\n",
       "    <tr>\n",
       "      <th>2017-07-01</th>\n",
       "      <td>2471.588</td>\n",
       "      <td>2837.784378</td>\n",
       "      <td>20876.311459</td>\n",
       "    </tr>\n",
       "    <tr>\n",
       "      <th>2017-08-01</th>\n",
       "      <td>12873.224</td>\n",
       "      <td>3122.268560</td>\n",
       "      <td>5730.449469</td>\n",
       "    </tr>\n",
       "    <tr>\n",
       "      <th>2017-09-01</th>\n",
       "      <td>12157.035</td>\n",
       "      <td>11614.792143</td>\n",
       "      <td>9783.703095</td>\n",
       "    </tr>\n",
       "    <tr>\n",
       "      <th>2017-10-01</th>\n",
       "      <td>10139.318</td>\n",
       "      <td>5461.522156</td>\n",
       "      <td>18279.445728</td>\n",
       "    </tr>\n",
       "    <tr>\n",
       "      <th>2017-11-01</th>\n",
       "      <td>6490.565</td>\n",
       "      <td>6862.654379</td>\n",
       "      <td>12172.015925</td>\n",
       "    </tr>\n",
       "    <tr>\n",
       "      <th>2017-12-01</th>\n",
       "      <td>5536.102</td>\n",
       "      <td>16393.653974</td>\n",
       "      <td>30556.942008</td>\n",
       "    </tr>\n",
       "  </tbody>\n",
       "</table>\n",
       "</div>"
      ],
      "text/plain": [
       "                Sales  ARIMA_Predictions  LSTM_Predictions\n",
       "Order_Date                                                \n",
       "2017-01-01   9436.823        2366.019664      23908.730723\n",
       "2017-02-01    626.722        2113.676070      22993.617305\n",
       "2017-03-01   2785.488        6219.688582      30463.374494\n",
       "2017-04-01   4915.515        5053.180794       7194.093309\n",
       "2017-05-01   2928.624        2287.312535      56187.019627\n",
       "2017-06-01   2427.041        5034.373264      -1113.377416\n",
       "2017-07-01   2471.588        2837.784378      20876.311459\n",
       "2017-08-01  12873.224        3122.268560       5730.449469\n",
       "2017-09-01  12157.035       11614.792143       9783.703095\n",
       "2017-10-01  10139.318        5461.522156      18279.445728\n",
       "2017-11-01   6490.565        6862.654379      12172.015925\n",
       "2017-12-01   5536.102       16393.653974      30556.942008"
      ]
     },
     "execution_count": 144,
     "metadata": {},
     "output_type": "execute_result"
    }
   ],
   "source": [
    "test_data['LSTM_Predictions'] = lstm_predictions\n",
    "test_data"
   ]
  },
  {
   "cell_type": "code",
   "execution_count": 145,
   "metadata": {},
   "outputs": [
    {
     "data": {
      "image/png": "[encoded data removed]",
      "text/plain": [
       "<Figure size 1152x360 with 1 Axes>"
      ]
     },
     "metadata": {
      "needs_background": "light"
     },
     "output_type": "display_data"
    }
   ],
   "source": [
    "test_data['Sales'].plot(figsize = (16,5), legend=True)\n",
    "test_data['LSTM_Predictions'].plot(legend = True);"
   ]
  },
  {
   "cell_type": "markdown",
   "metadata": {},
   "source": [
    "calculating MSE, MAPE and RMSE values"
   ]
  },
  {
   "cell_type": "code",
   "execution_count": 146,
   "metadata": {},
   "outputs": [
    {
     "name": "stdout",
     "output_type": "stream",
     "text": [
      "MSE Error: 454160956.88548553\n",
      "RMSE Error: 21311.052458418977\n",
      "Mean: 229.85800083049833\n",
      "MAPE: 680.5067796150807\n"
     ]
    }
   ],
   "source": [
    "lstm_rmse_error = rmse(test_data['Sales'], test_data[\"LSTM_Predictions\"])\n",
    "lstm_mse_error = lstm_rmse_error**2\n",
    "mean_value = df['Sales'].mean()\n",
    "lstm_mape = np.mean(np.abs((test_data[\"LSTM_Predictions\"] - test_data['Sales']) / test_data['Sales'])) * 100\n",
    "print(f'MSE Error: {lstm_mse_error}\\nRMSE Error: {lstm_rmse_error}\\nMean: {mean_value}\\nMAPE: {lstm_mape}')"
   ]
  },
  {
   "cell_type": "markdown",
   "metadata": {},
   "source": [
    "# Prophet Forecast\n",
    "It is a procedure for forecasting time series data based on an additive model where non-linear trends are fit with yearly, weekly and daily seasonality plus holiday effects"
   ]
  },
  {
   "cell_type": "code",
   "execution_count": 147,
   "metadata": {},
   "outputs": [
    {
     "name": "stdout",
     "output_type": "stream",
     "text": [
      "<class 'pandas.core.frame.DataFrame'>\n",
      "DatetimeIndex: 48 entries, 2014-01-01 to 2017-12-01\n",
      "Data columns (total 1 columns):\n",
      " #   Column  Non-Null Count  Dtype  \n",
      "---  ------  --------------  -----  \n",
      " 0   Sales   48 non-null     float64\n",
      "dtypes: float64(1)\n",
      "memory usage: 768.0 bytes\n"
     ]
    }
   ],
   "source": [
    "top10.info()"
   ]
  },
  {
   "cell_type": "code",
   "execution_count": 148,
   "metadata": {},
   "outputs": [
    {
     "name": "stderr",
     "output_type": "stream",
     "text": [
      "INFO:fbprophet:Disabling weekly seasonality. Run prophet with weekly_seasonality=True to override this.\n",
      "INFO:fbprophet:Disabling daily seasonality. Run prophet with daily_seasonality=True to override this.\n"
     ]
    },
    {
     "data": {
      "text/html": [
       "<div>\n",
       "<style scoped>\n",
       "    .dataframe tbody tr th:only-of-type {\n",
       "        vertical-align: middle;\n",
       "    }\n",
       "\n",
       "    .dataframe tbody tr th {\n",
       "        vertical-align: top;\n",
       "    }\n",
       "\n",
       "    .dataframe thead th {\n",
       "        text-align: right;\n",
       "    }\n",
       "</style>\n",
       "<table border=\"1\" class=\"dataframe\">\n",
       "  <thead>\n",
       "    <tr style=\"text-align: right;\">\n",
       "      <th></th>\n",
       "      <th>ds</th>\n",
       "      <th>trend</th>\n",
       "      <th>yhat_lower</th>\n",
       "      <th>yhat_upper</th>\n",
       "      <th>trend_lower</th>\n",
       "      <th>trend_upper</th>\n",
       "      <th>additive_terms</th>\n",
       "      <th>additive_terms_lower</th>\n",
       "      <th>additive_terms_upper</th>\n",
       "      <th>yearly</th>\n",
       "      <th>yearly_lower</th>\n",
       "      <th>yearly_upper</th>\n",
       "      <th>multiplicative_terms</th>\n",
       "      <th>multiplicative_terms_lower</th>\n",
       "      <th>multiplicative_terms_upper</th>\n",
       "      <th>yhat</th>\n",
       "    </tr>\n",
       "  </thead>\n",
       "  <tbody>\n",
       "    <tr>\n",
       "      <th>55</th>\n",
       "      <td>2018-08-01</td>\n",
       "      <td>6622.769438</td>\n",
       "      <td>4006.639010</td>\n",
       "      <td>10797.142051</td>\n",
       "      <td>6622.769307</td>\n",
       "      <td>6622.769566</td>\n",
       "      <td>749.824785</td>\n",
       "      <td>749.824785</td>\n",
       "      <td>749.824785</td>\n",
       "      <td>749.824785</td>\n",
       "      <td>749.824785</td>\n",
       "      <td>749.824785</td>\n",
       "      <td>0.0</td>\n",
       "      <td>0.0</td>\n",
       "      <td>0.0</td>\n",
       "      <td>7372.594223</td>\n",
       "    </tr>\n",
       "    <tr>\n",
       "      <th>56</th>\n",
       "      <td>2018-09-01</td>\n",
       "      <td>6694.491125</td>\n",
       "      <td>7967.661385</td>\n",
       "      <td>14876.557428</td>\n",
       "      <td>6694.490966</td>\n",
       "      <td>6694.491279</td>\n",
       "      <td>4632.819272</td>\n",
       "      <td>4632.819272</td>\n",
       "      <td>4632.819272</td>\n",
       "      <td>4632.819272</td>\n",
       "      <td>4632.819272</td>\n",
       "      <td>4632.819272</td>\n",
       "      <td>0.0</td>\n",
       "      <td>0.0</td>\n",
       "      <td>0.0</td>\n",
       "      <td>11327.310397</td>\n",
       "    </tr>\n",
       "    <tr>\n",
       "      <th>57</th>\n",
       "      <td>2018-10-01</td>\n",
       "      <td>6763.899209</td>\n",
       "      <td>2931.346121</td>\n",
       "      <td>9699.301674</td>\n",
       "      <td>6763.899022</td>\n",
       "      <td>6763.899385</td>\n",
       "      <td>-347.593508</td>\n",
       "      <td>-347.593508</td>\n",
       "      <td>-347.593508</td>\n",
       "      <td>-347.593508</td>\n",
       "      <td>-347.593508</td>\n",
       "      <td>-347.593508</td>\n",
       "      <td>0.0</td>\n",
       "      <td>0.0</td>\n",
       "      <td>0.0</td>\n",
       "      <td>6416.305701</td>\n",
       "    </tr>\n",
       "    <tr>\n",
       "      <th>58</th>\n",
       "      <td>2018-11-01</td>\n",
       "      <td>6835.620896</td>\n",
       "      <td>4941.594928</td>\n",
       "      <td>11901.862148</td>\n",
       "      <td>6835.620683</td>\n",
       "      <td>6835.621098</td>\n",
       "      <td>1482.150101</td>\n",
       "      <td>1482.150101</td>\n",
       "      <td>1482.150101</td>\n",
       "      <td>1482.150101</td>\n",
       "      <td>1482.150101</td>\n",
       "      <td>1482.150101</td>\n",
       "      <td>0.0</td>\n",
       "      <td>0.0</td>\n",
       "      <td>0.0</td>\n",
       "      <td>8317.770997</td>\n",
       "    </tr>\n",
       "    <tr>\n",
       "      <th>59</th>\n",
       "      <td>2018-12-01</td>\n",
       "      <td>6905.028981</td>\n",
       "      <td>5975.621942</td>\n",
       "      <td>12801.642389</td>\n",
       "      <td>6905.028730</td>\n",
       "      <td>6905.029214</td>\n",
       "      <td>2484.812729</td>\n",
       "      <td>2484.812729</td>\n",
       "      <td>2484.812729</td>\n",
       "      <td>2484.812729</td>\n",
       "      <td>2484.812729</td>\n",
       "      <td>2484.812729</td>\n",
       "      <td>0.0</td>\n",
       "      <td>0.0</td>\n",
       "      <td>0.0</td>\n",
       "      <td>9389.841709</td>\n",
       "    </tr>\n",
       "  </tbody>\n",
       "</table>\n",
       "</div>"
      ],
      "text/plain": [
       "           ds        trend   yhat_lower    yhat_upper  trend_lower  \\\n",
       "55 2018-08-01  6622.769438  4006.639010  10797.142051  6622.769307   \n",
       "56 2018-09-01  6694.491125  7967.661385  14876.557428  6694.490966   \n",
       "57 2018-10-01  6763.899209  2931.346121   9699.301674  6763.899022   \n",
       "58 2018-11-01  6835.620896  4941.594928  11901.862148  6835.620683   \n",
       "59 2018-12-01  6905.028981  5975.621942  12801.642389  6905.028730   \n",
       "\n",
       "    trend_upper  additive_terms  additive_terms_lower  additive_terms_upper  \\\n",
       "55  6622.769566      749.824785            749.824785            749.824785   \n",
       "56  6694.491279     4632.819272           4632.819272           4632.819272   \n",
       "57  6763.899385     -347.593508           -347.593508           -347.593508   \n",
       "58  6835.621098     1482.150101           1482.150101           1482.150101   \n",
       "59  6905.029214     2484.812729           2484.812729           2484.812729   \n",
       "\n",
       "         yearly  yearly_lower  yearly_upper  multiplicative_terms  \\\n",
       "55   749.824785    749.824785    749.824785                   0.0   \n",
       "56  4632.819272   4632.819272   4632.819272                   0.0   \n",
       "57  -347.593508   -347.593508   -347.593508                   0.0   \n",
       "58  1482.150101   1482.150101   1482.150101                   0.0   \n",
       "59  2484.812729   2484.812729   2484.812729                   0.0   \n",
       "\n",
       "    multiplicative_terms_lower  multiplicative_terms_upper          yhat  \n",
       "55                         0.0                         0.0   7372.594223  \n",
       "56                         0.0                         0.0  11327.310397  \n",
       "57                         0.0                         0.0   6416.305701  \n",
       "58                         0.0                         0.0   8317.770997  \n",
       "59                         0.0                         0.0   9389.841709  "
      ]
     },
     "execution_count": 148,
     "metadata": {},
     "output_type": "execute_result"
    }
   ],
   "source": [
    "df_pr = top10.copy()\n",
    "df_pr = top10.reset_index()\n",
    "df_pr.columns = ['ds','y'] # To use prophet column names should be like that\n",
    "train_data_pr = df_pr.iloc[:len(df)-12]\n",
    "test_data_pr = df_pr.iloc[len(df)-12:]\n",
    "\n",
    "m = Prophet()\n",
    "m.fit(train_data_pr)\n",
    "future = m.make_future_dataframe(periods=12,freq='MS')\n",
    "prophet_pred = m.predict(future)\n",
    "prophet_pred.tail()"
   ]
  },
  {
   "cell_type": "code",
   "execution_count": 149,
   "metadata": {},
   "outputs": [
    {
     "data": {
      "text/html": [
       "<div>\n",
       "<style scoped>\n",
       "    .dataframe tbody tr th:only-of-type {\n",
       "        vertical-align: middle;\n",
       "    }\n",
       "\n",
       "    .dataframe tbody tr th {\n",
       "        vertical-align: top;\n",
       "    }\n",
       "\n",
       "    .dataframe thead th {\n",
       "        text-align: right;\n",
       "    }\n",
       "</style>\n",
       "<table border=\"1\" class=\"dataframe\">\n",
       "  <thead>\n",
       "    <tr style=\"text-align: right;\">\n",
       "      <th></th>\n",
       "      <th>Pred</th>\n",
       "    </tr>\n",
       "    <tr>\n",
       "      <th>Order_Date</th>\n",
       "      <th></th>\n",
       "    </tr>\n",
       "  </thead>\n",
       "  <tbody>\n",
       "    <tr>\n",
       "      <th>2018-01-01</th>\n",
       "      <td>5701.505212</td>\n",
       "    </tr>\n",
       "    <tr>\n",
       "      <th>2018-02-01</th>\n",
       "      <td>2910.303362</td>\n",
       "    </tr>\n",
       "    <tr>\n",
       "      <th>2018-03-01</th>\n",
       "      <td>6401.049290</td>\n",
       "    </tr>\n",
       "    <tr>\n",
       "      <th>2018-04-01</th>\n",
       "      <td>5069.857699</td>\n",
       "    </tr>\n",
       "    <tr>\n",
       "      <th>2018-05-01</th>\n",
       "      <td>3813.534980</td>\n",
       "    </tr>\n",
       "    <tr>\n",
       "      <th>2018-06-01</th>\n",
       "      <td>5853.176453</td>\n",
       "    </tr>\n",
       "    <tr>\n",
       "      <th>2018-07-01</th>\n",
       "      <td>4116.817953</td>\n",
       "    </tr>\n",
       "    <tr>\n",
       "      <th>2018-08-01</th>\n",
       "      <td>7372.594223</td>\n",
       "    </tr>\n",
       "    <tr>\n",
       "      <th>2018-09-01</th>\n",
       "      <td>11327.310397</td>\n",
       "    </tr>\n",
       "    <tr>\n",
       "      <th>2018-10-01</th>\n",
       "      <td>6416.305701</td>\n",
       "    </tr>\n",
       "    <tr>\n",
       "      <th>2018-11-01</th>\n",
       "      <td>8317.770997</td>\n",
       "    </tr>\n",
       "    <tr>\n",
       "      <th>2018-12-01</th>\n",
       "      <td>9389.841709</td>\n",
       "    </tr>\n",
       "  </tbody>\n",
       "</table>\n",
       "</div>"
      ],
      "text/plain": [
       "                    Pred\n",
       "Order_Date              \n",
       "2018-01-01   5701.505212\n",
       "2018-02-01   2910.303362\n",
       "2018-03-01   6401.049290\n",
       "2018-04-01   5069.857699\n",
       "2018-05-01   3813.534980\n",
       "2018-06-01   5853.176453\n",
       "2018-07-01   4116.817953\n",
       "2018-08-01   7372.594223\n",
       "2018-09-01  11327.310397\n",
       "2018-10-01   6416.305701\n",
       "2018-11-01   8317.770997\n",
       "2018-12-01   9389.841709"
      ]
     },
     "execution_count": 149,
     "metadata": {},
     "output_type": "execute_result"
    }
   ],
   "source": [
    "prophet_pred = pd.DataFrame({\"Order_Date\" : prophet_pred[-12:]['ds'], \"Pred\" : prophet_pred[-12:][\"yhat\"]})\n",
    "prophet_pred = prophet_pred.set_index(\"Order_Date\")\n",
    "prophet_pred.index.freq = \"MS\"\n",
    "prophet_pred"
   ]
  },
  {
   "cell_type": "code",
   "execution_count": 150,
   "metadata": {},
   "outputs": [
    {
     "name": "stderr",
     "output_type": "stream",
     "text": [
      "/home/sync_ai/Documents/python3/lib/python3.6/site-packages/ipykernel_launcher.py:1: SettingWithCopyWarning:\n",
      "\n",
      "\n",
      "A value is trying to be set on a copy of a slice from a DataFrame.\n",
      "Try using .loc[row_indexer,col_indexer] = value instead\n",
      "\n",
      "See the caveats in the documentation: https://pandas.pydata.org/pandas-docs/stable/user_guide/indexing.html#returning-a-view-versus-a-copy\n",
      "\n"
     ]
    },
    {
     "data": {
      "image/png": "[encoded data removed]",
      "text/plain": [
       "<Figure size 1152x360 with 1 Axes>"
      ]
     },
     "metadata": {
      "needs_background": "light"
     },
     "output_type": "display_data"
    }
   ],
   "source": [
    "test_data[\"Prophet_Predictions\"] = prophet_pred['Pred'].values\n",
    "\n",
    "plt.figure(figsize=(16,5))\n",
    "ax = sns.lineplot(x= test_data.index, y=test_data[\"Sales\"])\n",
    "sns.lineplot(x=test_data.index, y = test_data[\"Prophet_Predictions\"]);"
   ]
  },
  {
   "cell_type": "markdown",
   "metadata": {},
   "source": [
    "calculating MSE, MAPE and RMSE values"
   ]
  },
  {
   "cell_type": "code",
   "execution_count": 151,
   "metadata": {},
   "outputs": [
    {
     "name": "stdout",
     "output_type": "stream",
     "text": [
      "MSE Error: 9207323.671007628\n",
      "RMSE Error: 3034.357208867741\n",
      "Mean: 229.85800083049833\n",
      "MAPE: 79.90614286096474\n"
     ]
    }
   ],
   "source": [
    "prophet_rmse_error = rmse(test_data['Sales'], test_data[\"Prophet_Predictions\"])\n",
    "prophet_mse_error = prophet_rmse_error**2\n",
    "mean_value = df['Sales'].mean()\n",
    "prophet_mape = np.mean(np.abs((test_data[\"Prophet_Predictions\"] - test_data['Sales']) / test_data['Sales'])) * 100\n",
    "print(f'MSE Error: {prophet_mse_error}\\nRMSE Error: {prophet_rmse_error}\\nMean: {mean_value}\\nMAPE: {prophet_mape}')"
   ]
  },
  {
   "cell_type": "code",
   "execution_count": 152,
   "metadata": {},
   "outputs": [
    {
     "data": {
      "image/png": "[encoded data removed]",
      "text/plain": [
       "<Figure size 1152x648 with 1 Axes>"
      ]
     },
     "metadata": {
      "needs_background": "light"
     },
     "output_type": "display_data"
    }
   ],
   "source": [
    "rmse_errors = [arima_rmse_error, lstm_rmse_error, prophet_rmse_error]\n",
    "mse_errors = [arima_mse_error, lstm_mse_error, prophet_mse_error]\n",
    "mape = [arima_mape, lstm_mape, prophet_mape]\n",
    "errors = pd.DataFrame({\"Models\" : [\"ARIMA\", \"LSTM\", \"Prophet\"],\"RMSE Errors\" : rmse_errors, \"MSE Errors\" : mse_errors, \"MAPE\" : mape})\n",
    "plt.figure(figsize=(16,9))\n",
    "plt.plot_date(test_data.index, test_data[\"Sales\"], linestyle=\"solid\", label='Sales')\n",
    "plt.plot_date(test_data.index, test_data[\"ARIMA_Predictions\"], linestyle=\"-.\", label='ARIMA predicitons')\n",
    "plt.plot_date(test_data.index, test_data[\"LSTM_Predictions\"], linestyle=\"--\", label='LSTM predicitons')\n",
    "plt.plot_date(test_data.index, test_data[\"Prophet_Predictions\"], linestyle=\":\", label='Prophet predicitons')\n",
    "plt.legend()\n",
    "plt.show()"
   ]
  },
  {
   "cell_type": "markdown",
   "metadata": {},
   "source": [
    "# Comparing RMSE, MSE and MAPE values "
   ]
  },
  {
   "cell_type": "code",
   "execution_count": 153,
   "metadata": {},
   "outputs": [
    {
     "name": "stdout",
     "output_type": "stream",
     "text": [
      "Mean: 6065.670416666668\n"
     ]
    },
    {
     "data": {
      "text/html": [
       "<div>\n",
       "<style scoped>\n",
       "    .dataframe tbody tr th:only-of-type {\n",
       "        vertical-align: middle;\n",
       "    }\n",
       "\n",
       "    .dataframe tbody tr th {\n",
       "        vertical-align: top;\n",
       "    }\n",
       "\n",
       "    .dataframe thead th {\n",
       "        text-align: right;\n",
       "    }\n",
       "</style>\n",
       "<table border=\"1\" class=\"dataframe\">\n",
       "  <thead>\n",
       "    <tr style=\"text-align: right;\">\n",
       "      <th></th>\n",
       "      <th>Models</th>\n",
       "      <th>RMSE Errors</th>\n",
       "      <th>MSE Errors</th>\n",
       "      <th>MAPE</th>\n",
       "    </tr>\n",
       "  </thead>\n",
       "  <tbody>\n",
       "    <tr>\n",
       "      <th>0</th>\n",
       "      <td>ARIMA</td>\n",
       "      <td>5055.074662</td>\n",
       "      <td>2.555378e+07</td>\n",
       "      <td>75.884678</td>\n",
       "    </tr>\n",
       "    <tr>\n",
       "      <th>1</th>\n",
       "      <td>LSTM</td>\n",
       "      <td>21311.052458</td>\n",
       "      <td>4.541610e+08</td>\n",
       "      <td>680.506780</td>\n",
       "    </tr>\n",
       "    <tr>\n",
       "      <th>2</th>\n",
       "      <td>Prophet</td>\n",
       "      <td>3034.357209</td>\n",
       "      <td>9.207324e+06</td>\n",
       "      <td>79.906143</td>\n",
       "    </tr>\n",
       "  </tbody>\n",
       "</table>\n",
       "</div>"
      ],
      "text/plain": [
       "    Models   RMSE Errors    MSE Errors        MAPE\n",
       "0    ARIMA   5055.074662  2.555378e+07   75.884678\n",
       "1     LSTM  21311.052458  4.541610e+08  680.506780\n",
       "2  Prophet   3034.357209  9.207324e+06   79.906143"
      ]
     },
     "execution_count": 153,
     "metadata": {},
     "output_type": "execute_result"
    }
   ],
   "source": [
    "print(f\"Mean: {test_data['Sales'].mean()}\")\n",
    "errors"
   ]
  },
  {
   "cell_type": "markdown",
   "metadata": {},
   "source": [
    "# Comparing ARIMA, LSTM, Prophet Predicitions"
   ]
  },
  {
   "cell_type": "code",
   "execution_count": 154,
   "metadata": {},
   "outputs": [
    {
     "data": {
      "text/html": [
       "<div>\n",
       "<style scoped>\n",
       "    .dataframe tbody tr th:only-of-type {\n",
       "        vertical-align: middle;\n",
       "    }\n",
       "\n",
       "    .dataframe tbody tr th {\n",
       "        vertical-align: top;\n",
       "    }\n",
       "\n",
       "    .dataframe thead th {\n",
       "        text-align: right;\n",
       "    }\n",
       "</style>\n",
       "<table border=\"1\" class=\"dataframe\">\n",
       "  <thead>\n",
       "    <tr style=\"text-align: right;\">\n",
       "      <th></th>\n",
       "      <th>Sales</th>\n",
       "      <th>ARIMA_Predictions</th>\n",
       "      <th>LSTM_Predictions</th>\n",
       "      <th>Prophet_Predictions</th>\n",
       "    </tr>\n",
       "    <tr>\n",
       "      <th>Order_Date</th>\n",
       "      <th></th>\n",
       "      <th></th>\n",
       "      <th></th>\n",
       "      <th></th>\n",
       "    </tr>\n",
       "  </thead>\n",
       "  <tbody>\n",
       "    <tr>\n",
       "      <th>2017-01-01</th>\n",
       "      <td>9436.823</td>\n",
       "      <td>2366.019664</td>\n",
       "      <td>23908.730723</td>\n",
       "      <td>5701.505212</td>\n",
       "    </tr>\n",
       "    <tr>\n",
       "      <th>2017-02-01</th>\n",
       "      <td>626.722</td>\n",
       "      <td>2113.676070</td>\n",
       "      <td>22993.617305</td>\n",
       "      <td>2910.303362</td>\n",
       "    </tr>\n",
       "    <tr>\n",
       "      <th>2017-03-01</th>\n",
       "      <td>2785.488</td>\n",
       "      <td>6219.688582</td>\n",
       "      <td>30463.374494</td>\n",
       "      <td>6401.049290</td>\n",
       "    </tr>\n",
       "    <tr>\n",
       "      <th>2017-04-01</th>\n",
       "      <td>4915.515</td>\n",
       "      <td>5053.180794</td>\n",
       "      <td>7194.093309</td>\n",
       "      <td>5069.857699</td>\n",
       "    </tr>\n",
       "    <tr>\n",
       "      <th>2017-05-01</th>\n",
       "      <td>2928.624</td>\n",
       "      <td>2287.312535</td>\n",
       "      <td>56187.019627</td>\n",
       "      <td>3813.534980</td>\n",
       "    </tr>\n",
       "    <tr>\n",
       "      <th>2017-06-01</th>\n",
       "      <td>2427.041</td>\n",
       "      <td>5034.373264</td>\n",
       "      <td>-1113.377416</td>\n",
       "      <td>5853.176453</td>\n",
       "    </tr>\n",
       "    <tr>\n",
       "      <th>2017-07-01</th>\n",
       "      <td>2471.588</td>\n",
       "      <td>2837.784378</td>\n",
       "      <td>20876.311459</td>\n",
       "      <td>4116.817953</td>\n",
       "    </tr>\n",
       "    <tr>\n",
       "      <th>2017-08-01</th>\n",
       "      <td>12873.224</td>\n",
       "      <td>3122.268560</td>\n",
       "      <td>5730.449469</td>\n",
       "      <td>7372.594223</td>\n",
       "    </tr>\n",
       "    <tr>\n",
       "      <th>2017-09-01</th>\n",
       "      <td>12157.035</td>\n",
       "      <td>11614.792143</td>\n",
       "      <td>9783.703095</td>\n",
       "      <td>11327.310397</td>\n",
       "    </tr>\n",
       "    <tr>\n",
       "      <th>2017-10-01</th>\n",
       "      <td>10139.318</td>\n",
       "      <td>5461.522156</td>\n",
       "      <td>18279.445728</td>\n",
       "      <td>6416.305701</td>\n",
       "    </tr>\n",
       "    <tr>\n",
       "      <th>2017-11-01</th>\n",
       "      <td>6490.565</td>\n",
       "      <td>6862.654379</td>\n",
       "      <td>12172.015925</td>\n",
       "      <td>8317.770997</td>\n",
       "    </tr>\n",
       "    <tr>\n",
       "      <th>2017-12-01</th>\n",
       "      <td>5536.102</td>\n",
       "      <td>16393.653974</td>\n",
       "      <td>30556.942008</td>\n",
       "      <td>9389.841709</td>\n",
       "    </tr>\n",
       "  </tbody>\n",
       "</table>\n",
       "</div>"
      ],
      "text/plain": [
       "                Sales  ARIMA_Predictions  LSTM_Predictions  \\\n",
       "Order_Date                                                   \n",
       "2017-01-01   9436.823        2366.019664      23908.730723   \n",
       "2017-02-01    626.722        2113.676070      22993.617305   \n",
       "2017-03-01   2785.488        6219.688582      30463.374494   \n",
       "2017-04-01   4915.515        5053.180794       7194.093309   \n",
       "2017-05-01   2928.624        2287.312535      56187.019627   \n",
       "2017-06-01   2427.041        5034.373264      -1113.377416   \n",
       "2017-07-01   2471.588        2837.784378      20876.311459   \n",
       "2017-08-01  12873.224        3122.268560       5730.449469   \n",
       "2017-09-01  12157.035       11614.792143       9783.703095   \n",
       "2017-10-01  10139.318        5461.522156      18279.445728   \n",
       "2017-11-01   6490.565        6862.654379      12172.015925   \n",
       "2017-12-01   5536.102       16393.653974      30556.942008   \n",
       "\n",
       "            Prophet_Predictions  \n",
       "Order_Date                       \n",
       "2017-01-01          5701.505212  \n",
       "2017-02-01          2910.303362  \n",
       "2017-03-01          6401.049290  \n",
       "2017-04-01          5069.857699  \n",
       "2017-05-01          3813.534980  \n",
       "2017-06-01          5853.176453  \n",
       "2017-07-01          4116.817953  \n",
       "2017-08-01          7372.594223  \n",
       "2017-09-01         11327.310397  \n",
       "2017-10-01          6416.305701  \n",
       "2017-11-01          8317.770997  \n",
       "2017-12-01          9389.841709  "
      ]
     },
     "execution_count": 154,
     "metadata": {},
     "output_type": "execute_result"
    }
   ],
   "source": [
    "test_data"
   ]
  },
  {
   "cell_type": "code",
   "execution_count": null,
   "metadata": {},
   "outputs": [],
   "source": []
  }
 ],
 "metadata": {
  "kernelspec": {
   "display_name": "Python 3",
   "language": "python",
   "name": "python3"
  },
  "language_info": {
   "codemirror_mode": {
    "name": "ipython",
    "version": 3
   },
   "file_extension": ".py",
   "mimetype": "text/x-python",
   "name": "python",
   "nbconvert_exporter": "python",
   "pygments_lexer": "ipython3",
   "version": "3.6.9"
  }
 },
 "nbformat": 4,
 "nbformat_minor": 4
}
